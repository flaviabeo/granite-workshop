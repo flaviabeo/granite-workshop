{
 "cells": [
  {
   "cell_type": "markdown",
   "metadata": {},
   "source": [
    "# Generating Bash Code with Granite Code Models"
   ]
  },
  {
   "cell_type": "markdown",
   "metadata": {},
   "source": [
    "> **NOTE:** This recipe assumes you are working on a Linux, MacOS, or other UNIX-compatible system. While we haven't tested on Windows, some of the examples may generate valid DOS or PowerShell output. See comments below.\n"
   ]
  },
  {
   "cell_type": "markdown",
   "metadata": {},
   "source": [
    "## Setting Up"
   ]
  },
  {
   "cell_type": "markdown",
   "metadata": {},
   "source": [
    "Ensure you are running python 3.10, 3.11, or 3.12 in a freshly-created virtual environment."
   ]
  },
  {
   "cell_type": "code",
   "execution_count": 1,
   "metadata": {},
   "outputs": [],
   "source": [
    "import sys\n",
    "assert sys.version_info >= (3, 10) and sys.version_info < (3, 13), \"Use Python 3.10, 3.11, or 3.12 to run this notebook.\""
   ]
  },
  {
   "cell_type": "markdown",
   "metadata": {},
   "source": [
    "### Install dependencies\n",
    "\n",
    "Granite Kitchen comes with a bundle of dependencies that are required for notebooks. See the list of packages in its [`setup.py`](https://github.com/ibm-granite-community/granite-kitchen/blob/main/setup.py). "
   ]
  },
  {
   "cell_type": "code",
   "execution_count": 2,
   "metadata": {},
   "outputs": [
    {
     "name": "stdout",
     "output_type": "stream",
     "text": [
      "Collecting git+https://github.com/ibm-granite-community/utils.git\n",
      "  Cloning https://github.com/ibm-granite-community/utils.git to /private/var/folders/5x/cztshy892cbf92p2fdgqlxhc0000gn/T/pip-req-build-65op5ceq\n",
      "  Running command git clone --filter=blob:none --quiet https://github.com/ibm-granite-community/utils.git /private/var/folders/5x/cztshy892cbf92p2fdgqlxhc0000gn/T/pip-req-build-65op5ceq\n",
      "  Resolved https://github.com/ibm-granite-community/utils.git to commit 3f2ec81e4d9fabf9e1cb7fae30c2104f07111549\n",
      "  Installing build dependencies ... \u001b[?25ldone\n",
      "\u001b[?25h  Getting requirements to build wheel ... \u001b[?25ldone\n",
      "\u001b[?25h  Preparing metadata (pyproject.toml) ... \u001b[?25ldone\n",
      "\u001b[?25hRequirement already satisfied: langchain_community in /Users/flaviajaninebeo/Documents/GitHub/granite-workshop/.venv/lib/python3.11/site-packages (0.3.21)\n",
      "Requirement already satisfied: langchain_ollama in /Users/flaviajaninebeo/Documents/GitHub/granite-workshop/.venv/lib/python3.11/site-packages (0.3.0)\n",
      "Requirement already satisfied: replicate in /Users/flaviajaninebeo/Documents/GitHub/granite-workshop/.venv/lib/python3.11/site-packages (1.0.4)\n",
      "Requirement already satisfied: python-dotenv in /Users/flaviajaninebeo/Documents/GitHub/granite-workshop/.venv/lib/python3.11/site-packages (from ibm-granite-community-utils==0.1.dev51) (1.1.0)\n",
      "Requirement already satisfied: langchain-core<1.0.0,>=0.3.51 in /Users/flaviajaninebeo/Documents/GitHub/granite-workshop/.venv/lib/python3.11/site-packages (from langchain_community) (0.3.51)\n",
      "Requirement already satisfied: langchain<1.0.0,>=0.3.23 in /Users/flaviajaninebeo/Documents/GitHub/granite-workshop/.venv/lib/python3.11/site-packages (from langchain_community) (0.3.23)\n",
      "Requirement already satisfied: SQLAlchemy<3,>=1.4 in /Users/flaviajaninebeo/Documents/GitHub/granite-workshop/.venv/lib/python3.11/site-packages (from langchain_community) (2.0.40)\n",
      "Requirement already satisfied: requests<3,>=2 in /Users/flaviajaninebeo/Documents/GitHub/granite-workshop/.venv/lib/python3.11/site-packages (from langchain_community) (2.32.3)\n",
      "Requirement already satisfied: PyYAML>=5.3 in /Users/flaviajaninebeo/Documents/GitHub/granite-workshop/.venv/lib/python3.11/site-packages (from langchain_community) (6.0.2)\n",
      "Requirement already satisfied: aiohttp<4.0.0,>=3.8.3 in /Users/flaviajaninebeo/Documents/GitHub/granite-workshop/.venv/lib/python3.11/site-packages (from langchain_community) (3.11.16)\n",
      "Requirement already satisfied: tenacity!=8.4.0,<10,>=8.1.0 in /Users/flaviajaninebeo/Documents/GitHub/granite-workshop/.venv/lib/python3.11/site-packages (from langchain_community) (9.1.2)\n",
      "Requirement already satisfied: dataclasses-json<0.7,>=0.5.7 in /Users/flaviajaninebeo/Documents/GitHub/granite-workshop/.venv/lib/python3.11/site-packages (from langchain_community) (0.6.7)\n",
      "Requirement already satisfied: pydantic-settings<3.0.0,>=2.4.0 in /Users/flaviajaninebeo/Documents/GitHub/granite-workshop/.venv/lib/python3.11/site-packages (from langchain_community) (2.8.1)\n",
      "Requirement already satisfied: langsmith<0.4,>=0.1.125 in /Users/flaviajaninebeo/Documents/GitHub/granite-workshop/.venv/lib/python3.11/site-packages (from langchain_community) (0.3.25)\n",
      "Requirement already satisfied: httpx-sse<1.0.0,>=0.4.0 in /Users/flaviajaninebeo/Documents/GitHub/granite-workshop/.venv/lib/python3.11/site-packages (from langchain_community) (0.4.0)\n",
      "Requirement already satisfied: numpy<3,>=1.26.2 in /Users/flaviajaninebeo/Documents/GitHub/granite-workshop/.venv/lib/python3.11/site-packages (from langchain_community) (2.2.4)\n",
      "Requirement already satisfied: ollama<1,>=0.4.4 in /Users/flaviajaninebeo/Documents/GitHub/granite-workshop/.venv/lib/python3.11/site-packages (from langchain_ollama) (0.4.7)\n",
      "Requirement already satisfied: httpx<1,>=0.21.0 in /Users/flaviajaninebeo/Documents/GitHub/granite-workshop/.venv/lib/python3.11/site-packages (from replicate) (0.28.1)\n",
      "Requirement already satisfied: packaging in /Users/flaviajaninebeo/Documents/GitHub/granite-workshop/.venv/lib/python3.11/site-packages (from replicate) (24.2)\n",
      "Requirement already satisfied: pydantic>1.10.7 in /Users/flaviajaninebeo/Documents/GitHub/granite-workshop/.venv/lib/python3.11/site-packages (from replicate) (2.11.2)\n",
      "Requirement already satisfied: typing_extensions>=4.5.0 in /Users/flaviajaninebeo/Documents/GitHub/granite-workshop/.venv/lib/python3.11/site-packages (from replicate) (4.13.1)\n",
      "Requirement already satisfied: aiohappyeyeballs>=2.3.0 in /Users/flaviajaninebeo/Documents/GitHub/granite-workshop/.venv/lib/python3.11/site-packages (from aiohttp<4.0.0,>=3.8.3->langchain_community) (2.6.1)\n",
      "Requirement already satisfied: aiosignal>=1.1.2 in /Users/flaviajaninebeo/Documents/GitHub/granite-workshop/.venv/lib/python3.11/site-packages (from aiohttp<4.0.0,>=3.8.3->langchain_community) (1.3.2)\n",
      "Requirement already satisfied: attrs>=17.3.0 in /Users/flaviajaninebeo/Documents/GitHub/granite-workshop/.venv/lib/python3.11/site-packages (from aiohttp<4.0.0,>=3.8.3->langchain_community) (25.3.0)\n",
      "Requirement already satisfied: frozenlist>=1.1.1 in /Users/flaviajaninebeo/Documents/GitHub/granite-workshop/.venv/lib/python3.11/site-packages (from aiohttp<4.0.0,>=3.8.3->langchain_community) (1.5.0)\n",
      "Requirement already satisfied: multidict<7.0,>=4.5 in /Users/flaviajaninebeo/Documents/GitHub/granite-workshop/.venv/lib/python3.11/site-packages (from aiohttp<4.0.0,>=3.8.3->langchain_community) (6.3.2)\n",
      "Requirement already satisfied: propcache>=0.2.0 in /Users/flaviajaninebeo/Documents/GitHub/granite-workshop/.venv/lib/python3.11/site-packages (from aiohttp<4.0.0,>=3.8.3->langchain_community) (0.3.1)\n",
      "Requirement already satisfied: yarl<2.0,>=1.17.0 in /Users/flaviajaninebeo/Documents/GitHub/granite-workshop/.venv/lib/python3.11/site-packages (from aiohttp<4.0.0,>=3.8.3->langchain_community) (1.19.0)\n",
      "Requirement already satisfied: marshmallow<4.0.0,>=3.18.0 in /Users/flaviajaninebeo/Documents/GitHub/granite-workshop/.venv/lib/python3.11/site-packages (from dataclasses-json<0.7,>=0.5.7->langchain_community) (3.26.1)\n",
      "Requirement already satisfied: typing-inspect<1,>=0.4.0 in /Users/flaviajaninebeo/Documents/GitHub/granite-workshop/.venv/lib/python3.11/site-packages (from dataclasses-json<0.7,>=0.5.7->langchain_community) (0.9.0)\n",
      "Requirement already satisfied: anyio in /Users/flaviajaninebeo/Documents/GitHub/granite-workshop/.venv/lib/python3.11/site-packages (from httpx<1,>=0.21.0->replicate) (4.9.0)\n",
      "Requirement already satisfied: certifi in /Users/flaviajaninebeo/Documents/GitHub/granite-workshop/.venv/lib/python3.11/site-packages (from httpx<1,>=0.21.0->replicate) (2025.1.31)\n",
      "Requirement already satisfied: httpcore==1.* in /Users/flaviajaninebeo/Documents/GitHub/granite-workshop/.venv/lib/python3.11/site-packages (from httpx<1,>=0.21.0->replicate) (1.0.7)\n",
      "Requirement already satisfied: idna in /Users/flaviajaninebeo/Documents/GitHub/granite-workshop/.venv/lib/python3.11/site-packages (from httpx<1,>=0.21.0->replicate) (3.10)\n",
      "Requirement already satisfied: h11<0.15,>=0.13 in /Users/flaviajaninebeo/Documents/GitHub/granite-workshop/.venv/lib/python3.11/site-packages (from httpcore==1.*->httpx<1,>=0.21.0->replicate) (0.14.0)\n",
      "Requirement already satisfied: langchain-text-splitters<1.0.0,>=0.3.8 in /Users/flaviajaninebeo/Documents/GitHub/granite-workshop/.venv/lib/python3.11/site-packages (from langchain<1.0.0,>=0.3.23->langchain_community) (0.3.8)\n",
      "Requirement already satisfied: jsonpatch<2.0,>=1.33 in /Users/flaviajaninebeo/Documents/GitHub/granite-workshop/.venv/lib/python3.11/site-packages (from langchain-core<1.0.0,>=0.3.51->langchain_community) (1.33)\n",
      "Requirement already satisfied: orjson<4.0.0,>=3.9.14 in /Users/flaviajaninebeo/Documents/GitHub/granite-workshop/.venv/lib/python3.11/site-packages (from langsmith<0.4,>=0.1.125->langchain_community) (3.10.16)\n",
      "Requirement already satisfied: requests-toolbelt<2.0.0,>=1.0.0 in /Users/flaviajaninebeo/Documents/GitHub/granite-workshop/.venv/lib/python3.11/site-packages (from langsmith<0.4,>=0.1.125->langchain_community) (1.0.0)\n",
      "Requirement already satisfied: zstandard<0.24.0,>=0.23.0 in /Users/flaviajaninebeo/Documents/GitHub/granite-workshop/.venv/lib/python3.11/site-packages (from langsmith<0.4,>=0.1.125->langchain_community) (0.23.0)\n",
      "Requirement already satisfied: annotated-types>=0.6.0 in /Users/flaviajaninebeo/Documents/GitHub/granite-workshop/.venv/lib/python3.11/site-packages (from pydantic>1.10.7->replicate) (0.7.0)\n",
      "Requirement already satisfied: pydantic-core==2.33.1 in /Users/flaviajaninebeo/Documents/GitHub/granite-workshop/.venv/lib/python3.11/site-packages (from pydantic>1.10.7->replicate) (2.33.1)\n",
      "Requirement already satisfied: typing-inspection>=0.4.0 in /Users/flaviajaninebeo/Documents/GitHub/granite-workshop/.venv/lib/python3.11/site-packages (from pydantic>1.10.7->replicate) (0.4.0)\n",
      "Requirement already satisfied: charset-normalizer<4,>=2 in /Users/flaviajaninebeo/Documents/GitHub/granite-workshop/.venv/lib/python3.11/site-packages (from requests<3,>=2->langchain_community) (3.4.1)\n",
      "Requirement already satisfied: urllib3<3,>=1.21.1 in /Users/flaviajaninebeo/Documents/GitHub/granite-workshop/.venv/lib/python3.11/site-packages (from requests<3,>=2->langchain_community) (2.3.0)\n",
      "Requirement already satisfied: jsonpointer>=1.9 in /Users/flaviajaninebeo/Documents/GitHub/granite-workshop/.venv/lib/python3.11/site-packages (from jsonpatch<2.0,>=1.33->langchain-core<1.0.0,>=0.3.51->langchain_community) (3.0.0)\n",
      "Requirement already satisfied: mypy-extensions>=0.3.0 in /Users/flaviajaninebeo/Documents/GitHub/granite-workshop/.venv/lib/python3.11/site-packages (from typing-inspect<1,>=0.4.0->dataclasses-json<0.7,>=0.5.7->langchain_community) (1.0.0)\n",
      "Requirement already satisfied: sniffio>=1.1 in /Users/flaviajaninebeo/Documents/GitHub/granite-workshop/.venv/lib/python3.11/site-packages (from anyio->httpx<1,>=0.21.0->replicate) (1.3.1)\n"
     ]
    }
   ],
   "source": [
    "! pip install \"git+https://github.com/ibm-granite-community/utils.git\" langchain_community langchain_ollama replicate"
   ]
  },
  {
   "cell_type": "markdown",
   "metadata": {},
   "source": [
    "### Serving the Granite AI model"
   ]
  },
  {
   "cell_type": "markdown",
   "metadata": {},
   "source": [
    "\n",
    "This notebook requires IBM Granite models to be served by an AI model runtime so that the models can be invoked or called. This notebook can use a locally accessible [Ollama](https://github.com/ollama/ollama) server to serve the models, or the [Replicate](https://replicate.com) cloud service.\n",
    "\n",
    "During the pre-work, you may have either started a local Ollama server on your computer, or setup Replicate access and obtained an [API token](https://replicate.com/account/api-tokens)."
   ]
  },
  {
   "cell_type": "markdown",
   "metadata": {},
   "source": [
    "## Select your model"
   ]
  },
  {
   "cell_type": "markdown",
   "metadata": {},
   "source": [
    "\n",
    "Select a Granite Code model to use. Here we use a Langchain client to connect to the model. If there is a locally accessible Ollama server, we use an Ollama client to access the model. Otherwise, we use a Replicate client to access the model.\n",
    "\n",
    "When using Replicate, if the `REPLICATE_API_TOKEN` environment variable is not set, or a `REPLICATE_API_TOKEN` Colab secret is not set, then the notebook will ask for your [Replicate API token](https://replicate.com/account/api-tokens) in a dialog box."
   ]
  },
  {
   "cell_type": "code",
   "execution_count": 7,
   "metadata": {},
   "outputs": [
    {
     "name": "stdout",
     "output_type": "stream",
     "text": [
      "using ollama\n"
     ]
    }
   ],
   "source": [
    "import os\n",
    "import requests\n",
    "from langchain_ollama.llms import OllamaLLM\n",
    "from langchain_community.llms import Replicate\n",
    "from ibm_granite_community.notebook_utils import get_env_var\n",
    "\n",
    "try: # Look for a locally accessible Ollama server for the model\n",
    "    response = requests.get(os.getenv(\"OLLAMA_HOST\", \"http://127.0.0.1:11434\"))\n",
    "    model = OllamaLLM(model=\"granite-code:latest\")\n",
    "    print(\"using ollama\")\n",
    "except Exception: # Use Replicate for the model\n",
    "    model = Replicate(model=\"ibm-granite/granite-8b-code-instruct-128k\",\n",
    "                      replicate_api_token=get_env_var(\"REPLICATE_API_TOKEN\"))\n"
   ]
  },
  {
   "cell_type": "markdown",
   "metadata": {},
   "source": [
    "### Detect your operating system"
   ]
  },
  {
   "cell_type": "markdown",
   "metadata": {},
   "source": [
    "We'll find it useful to determine the name of our operating system and use that string in queries. This is because shell commands sometimes have different options on Linux vs. MacOS, etc. We'll write our queries so they take this difference into account. We can use a helper function to determine your OS. Note that `platform.system()` returns `Windows` on Windows system."
   ]
  },
  {
   "cell_type": "markdown",
   "metadata": {},
   "source": [
    "> **TIPS:** If you are using MacOS, you can install Linux-compatible versions of many commands. Consider these two options:\n",
    "> * Install GNU Coreutils on a Mac. See [these instructions](https://superuser.com/questions/476575/replace-os-xs-shell-commands-with-the-linux-versions).\n",
    "> * Install [HomeBrew](https://brew.sh/) and use it to install Linux-compatible (and other) tools.\n",
    "\n",
    "> **Note:** The [Google Colab](https://colab.research.google.com) runtime environment is Linux."
   ]
  },
  {
   "cell_type": "code",
   "execution_count": 5,
   "metadata": {},
   "outputs": [
    {
     "name": "stdout",
     "output_type": "stream",
     "text": [
      "My OS is MacOS. My shell is bash.\n"
     ]
    }
   ],
   "source": [
    "import platform\n",
    "\n",
    "def os_name():\n",
    "    os_name = platform.system()\n",
    "    # It turns out, using \"MacOS\" is better than \"Darwin\", which is what gets returned on MacOS.\n",
    "    # For all other cases, the returned value should be fine as is, so we map the result to the desired\n",
    "    # name, but only for MacOS...\n",
    "    name_map = {'Darwin': 'MacOS'}\n",
    "    shell_map = {'Windows': 'DOS'} # On Windows and use Power Shell, change from `DOS` to `Power Shell`.\n",
    "    # ... then pass the os_name value as the second arg, which is used as the default return value.\n",
    "    # For the shell name, return `bash` by default. (You can change this to zsh, fish, etc.)\n",
    "    return name_map.get(os_name, os_name), shell_map.get(os_name, 'bash')\n",
    "\n",
    "my_os, my_shell = os_name()\n",
    "print(f\"My OS is {my_os}. My shell is {my_shell}.\")"
   ]
  },
  {
   "cell_type": "markdown",
   "metadata": {},
   "source": [
    "\n",
    "## One-shot Prompting with Granite Code\n",
    "\n",
    "In One-shot prompting, you provide the model with a question and no examples. The model will generate an answer given its training. Larger models tend to do better at this task.\n",
    "\n",
    "Note how we add additional context to the user's input prompt, such as _\"make sure you write code that works for _my_ system!\"_ (We'll see another way to do this below.)"
   ]
  },
  {
   "cell_type": "code",
   "execution_count": 8,
   "metadata": {},
   "outputs": [
    {
     "name": "stdout",
     "output_type": "stream",
     "text": [
      "Here's a Bash script that prints the first 50 files found under the current working directory that have been modified within the last week, along with their last modification times:\n",
      "\n",
      "#!/bin/bash\n",
      "# Get the current date and time in seconds since the epoch\n",
      "current_time=$(date +%s)\n",
      "# Calculate the timestamp for one week ago\n",
      "one_week_ago=$((current_time - 604800))\n",
      "\n",
      "# Loop through all files under the current working directory\n",
      "for file in $(find . -type f); do\n",
      "  # Get the last modification time of the file in seconds since the epoch\n",
      "  last_modified_time=$(stat -c %Y \"$file\")\n",
      "  \n",
      "  # If the file was modified within the last week, print its name and last modification time\n",
      "  if ((last_modified_time >= one_week_ago)); then\n",
      "    echo \"$file: $(date -r $last_modified_time +%F %T)\"\n",
      "    \n",
      "    # Stop after printing 50 files\n",
      "    if [ \"$(($i++))\" == \"50\" ]; then\n",
      "      break\n",
      "    fi\n",
      "  fi\n",
      "done\n",
      "\n",
      "This script uses the find command to search for all files under the current working directory. The stat command is used to get the last modification time of each file in seconds since the epoch, and the date command with the -r option is used to convert that timestamp to a human-readable date and time format.\n",
      "\n",
      "The if statement checks if the last modification time of the file is greater than or equal to one week ago ( calculated by subtracting 604800 seconds from the current time), and if it is, it prints the name and last modification time of the file. The script also stops after printing 50 files using a counter variable.\n",
      "\n"
     ]
    }
   ],
   "source": [
    "from textwrap import dedent\n",
    "\n",
    "prompt = dedent(f\"\"\"\\\n",
    "    Show me a {my_shell} script to print the first 50 files found under the current working directory\n",
    "    that have been modified within the last week. Make sure you show the last modification time\n",
    "    for each file in the output. Make sure you generate {my_shell} code that is {my_os}-compatible!\"\"\"\n",
    ")\n",
    "\n",
    "response = model.invoke(prompt)\n",
    "print(response)"
   ]
  },
  {
   "cell_type": "markdown",
   "metadata": {},
   "source": [
    "### Try the script"
   ]
  },
  {
   "cell_type": "markdown",
   "metadata": {},
   "source": [
    "Remove any markdown formatting in the output and paste the commands generated into the next cell _**after the %%bash line shown**_. Also delete the `ls -l`, which is there to allow the cell to run without error if nothing is pasted there (e.g., in our CI/CD test system). So, for example, you might have something like the following:\n",
    "\n",
    "```shell\n",
    "%%bash\n",
    "find dir -type d | do_something\n",
    "...\n",
    "```\n",
    "\n",
    "The `%%bash` \"magic\" tells Jupyter to run the commands as a shell script instead of as Python code. You can omit lines like `#!/bin/bash` and keep or remove any comments `# this is a comment...`.\n",
    "\n",
    "Does the script work? If not try running the query again. Also try modifying the query string. What difference do these steps make?"
   ]
  },
  {
   "cell_type": "code",
   "execution_count": 9,
   "metadata": {},
   "outputs": [
    {
     "name": "stdout",
     "output_type": "stream",
     "text": [
      "total 840\n",
      "-rw-r--r--  1 flaviajaninebeo  staff   43789 Apr  7 15:13 RAG_with_Langchain.ipynb\n",
      "-rw-r--r--  1 flaviajaninebeo  staff   36748 Apr  7 15:11 RAG_with_Langchain_br.ipynb\n",
      "-rw-r--r--  1 flaviajaninebeo  staff   84421 Apr  7 15:50 Summarize.ipynb\n",
      "-rw-r--r--  1 flaviajaninebeo  staff   16119 Apr  7 15:50 Text_to_Shell.ipynb\n",
      "-rw-r--r--  1 flaviajaninebeo  staff  113793 Apr  7 15:11 Time_Series_Getting_Started.ipynb\n",
      "-rw-r--r--  1 flaviajaninebeo  staff   86546 Apr  7 14:55 crepioca.pdf\n",
      "-rw-r--r--  1 flaviajaninebeo  staff   39027 Dec 10 10:11 state_of_the_union.txt\n"
     ]
    }
   ],
   "source": [
    "%%bash\n",
    "ls -l"
   ]
  },
  {
   "cell_type": "markdown",
   "metadata": {},
   "source": [
    "## Few-shot Prompting with Granite Code\n",
    "\n",
    "In few-shot prompting, you provide the model with a question and some examples. The model will generate an answer given its training. The additional examples help the model zero in on a pattern, which may be required for smaller models to perform well at this task."
   ]
  },
  {
   "cell_type": "markdown",
   "metadata": {},
   "source": [
    "### Provide a list of Q&A examples"
   ]
  },
  {
   "cell_type": "markdown",
   "metadata": {},
   "source": [
    "\n",
    "One of the examples uses the `stat` command, which requires different syntax for Linux vs. MacOS systems.\n",
    "\n",
    "> **NOTE:** If you are using a Windows system, try changing the \"answers\" in the `examples` cell to be valid Power Shell or DOS commands. You can ignore the `stat_flags` in the next cell."
   ]
  },
  {
   "cell_type": "code",
   "execution_count": 10,
   "metadata": {},
   "outputs": [
    {
     "name": "stdout",
     "output_type": "stream",
     "text": [
      "The 'stat' flags for my OS 'MacOS' and shell 'bash' are '-f \"%m %N\" {}'\n"
     ]
    }
   ],
   "source": [
    "stat_flags = '-c \"%y %n\" {}'\n",
    "if my_os == 'MacOS':\n",
    "    stat_flags = '-f \"%m %N\" {}'\n",
    "print(f\"The 'stat' flags for my OS \\'{my_os}\\' and shell \\'{my_shell}\\' are \\'{stat_flags}\\'\")"
   ]
  },
  {
   "cell_type": "code",
   "execution_count": 11,
   "metadata": {},
   "outputs": [],
   "source": [
    "examples = [\n",
    "    {\n",
    "        \"question\": \"Recursively find files that match '*.js', and filter out files with 'excludeddir' in their paths.\",\n",
    "        \"answer\": \"find . -name '*.js' | grep -v excludeddir\",\n",
    "    },\n",
    "    {\n",
    "        \"question\": \"Dump \\\"a0b\\\" as hexadecimal bytes.\",\n",
    "        \"answer\": \"printf \\\"a0b\\\" | od -tx1\",\n",
    "    },\n",
    "    {\n",
    "        \"question\": \"Create a tar ball of all pdf files in the current folder and any subdirectories.\",\n",
    "        \"answer\": \"find . -name '*.pdf' | xargs tar czvf pdf.tar\",\n",
    "    },\n",
    "    {\n",
    "        \"question\": \"Sort all files and directories in the current directory, but no subdirectories, according to modification time, and print only the seven most recently modified items.\",\n",
    "        \"answer\": f\"find . -maxdepth 1 -exec stat {stat_flags} ';' | sort -n -r | tail -n 7\",\n",
    "    },\n",
    "    {\n",
    "        \"question\": \"Find all the empty directories in and under the current directory.\",\n",
    "        \"answer\": \"find . -type d -empty\",\n",
    "    },\n",
    "]"
   ]
  },
  {
   "cell_type": "markdown",
   "metadata": {},
   "source": [
    "### Assemble the prompt template\n",
    "\n",
    "Here we build up a chat prompt template from messages. See the [Langchain docs](https://python.langchain.com/docs/how_to/few_shot_examples_chat/#fixed-examples) for more details."
   ]
  },
  {
   "cell_type": "code",
   "execution_count": 12,
   "metadata": {},
   "outputs": [
    {
     "name": "stdout",
     "output_type": "stream",
     "text": [
      "['question']\n"
     ]
    }
   ],
   "source": [
    "from langchain_core.prompts import ChatPromptTemplate, FewShotChatMessagePromptTemplate\n",
    "\n",
    "example_prompt = ChatPromptTemplate.from_messages(\n",
    "    [\n",
    "        (\"human\", \"{question}\"),\n",
    "        (\"ai\", \"{answer}\"),\n",
    "    ]\n",
    ")\n",
    "\n",
    "few_shot_prompt = FewShotChatMessagePromptTemplate(\n",
    "    example_prompt=example_prompt,\n",
    "    examples=examples,\n",
    ")\n",
    "\n",
    "chat_template = ChatPromptTemplate.from_messages(\n",
    "    [\n",
    "        few_shot_prompt,\n",
    "        (\"human\", \"{question}\"),\n",
    "    ]\n",
    ")\n",
    "\n",
    "print(chat_template.input_variables)\n"
   ]
  },
  {
   "cell_type": "markdown",
   "metadata": {},
   "source": [
    "### View the completed prompt\n",
    "\n",
    "Create a prompt and inspect the fully-interpolated chat template. Alternating Human/AI messages create a structure that the model will follow."
   ]
  },
  {
   "cell_type": "code",
   "execution_count": 13,
   "metadata": {},
   "outputs": [
    {
     "name": "stdout",
     "output_type": "stream",
     "text": [
      "Human: Recursively find files that match '*.js', and filter out files with 'excludeddir' in their paths.\n",
      "AI: find . -name '*.js' | grep -v excludeddir\n",
      "Human: Dump \"a0b\" as hexadecimal bytes.\n",
      "AI: printf \"a0b\" | od -tx1\n",
      "Human: Create a tar ball of all pdf files in the current folder and any subdirectories.\n",
      "AI: find . -name '*.pdf' | xargs tar czvf pdf.tar\n",
      "Human: Sort all files and directories in the current directory, but no subdirectories, according to modification time, and print only the seven most recently modified items.\n",
      "AI: find . -maxdepth 1 -exec stat -f \"%m %N\" {} ';' | sort -n -r | tail -n 7\n",
      "Human: Find all the empty directories in and under the current directory.\n",
      "AI: find . -type d -empty\n",
      "Human: Show me a bash script to print the first 50 files found under the current working directorythat have been modified within the last week. Make sure you show the last modification timefor each file in the output.\n"
     ]
    }
   ],
   "source": [
    "# Construct a prompt with no tabs and newlines.\n",
    "prompt = dedent(f\"\"\"\\\n",
    "    Show me a {my_shell} script to print the first 50 files found under the current working directory\n",
    "    that have been modified within the last week. Make sure you show the last modification time\n",
    "    for each file in the output.\"\"\"\n",
    ").replace(\"\\n\", \"\")\n",
    "\n",
    "print(chat_template.format(question=prompt))"
   ]
  },
  {
   "cell_type": "markdown",
   "metadata": {},
   "source": [
    "### Run the model"
   ]
  },
  {
   "cell_type": "code",
   "execution_count": 14,
   "metadata": {},
   "outputs": [
    {
     "name": "stdout",
     "output_type": "stream",
     "text": [
      "Here's a bash script that should do what you're asking for:\n",
      "```bash\n",
      "#!/bin/bash\n",
      " \n",
      "# Get the current date and one week ago\n",
      "today=$(date +%s)\n",
      "week_ago=$((today - 604800))\n",
      " \n",
      "# Find all files modified within the last week and print their modification times\n",
      "find . -type f -mtime \"$week_ago\" | while read file; do\n",
      "  echo \"Last modified: $(stat -c %y \"$file\")\"\n",
      "  cat \"$file\" | head -n 50\n",
      "done\n",
      "```\n",
      "This script uses the `find` command to find all files modified within the last week, and then pipes their output to a `while` loop that prints the modification time of each file and the first 50 lines of its contents. The `stat` command is used to get the modification time of each file, and the `head` command is used to limit the output to the first 50 lines.\n",
      "\n"
     ]
    }
   ],
   "source": [
    "chain = chat_template | model\n",
    "response = chain.invoke({\"question\": prompt})\n",
    "print(response)"
   ]
  },
  {
   "cell_type": "markdown",
   "metadata": {},
   "source": [
    "## Adding a System Prompt\n",
    "\n",
    "Finally, a _system prompt_ is the preferred way to provide additional instructions and clarity about the context for a task, especially when this same information applies for _all_ user queries in the application. When you are building an AI-enabled application for a set of use cases, you will probably spend a lot of time refining the system prompt to maximize the quality of the results!\n",
    "\n",
    "Here we define a system prompt to let the model know what we expect from it, including the expected language and os compatibility. To separate the system prompt from the user prompt, we use a chat template, which separates the prompt into messages and allows us to indicate the role of the speaker.\n"
   ]
  },
  {
   "cell_type": "code",
   "execution_count": 15,
   "metadata": {},
   "outputs": [
    {
     "name": "stdout",
     "output_type": "stream",
     "text": [
      "['question']\n"
     ]
    }
   ],
   "source": [
    "from langchain_core.messages import SystemMessage\n",
    "\n",
    "system_prompt = SystemMessage(content=dedent(f\"\"\"\\\n",
    "    You are a helpful software engineer. You write clear, concise, well-commented code. Do not output anything but the code.\n",
    "    Make sure you only generate {my_shell} code that is {my_os}-compatible!\"\"\"\n",
    "))\n",
    "\n",
    "chat_template_with_system_message = ChatPromptTemplate.from_messages(\n",
    "    [\n",
    "        system_prompt,\n",
    "        few_shot_prompt,\n",
    "        (\"human\", \"{question}\"),\n",
    "    ]\n",
    ")\n",
    "\n",
    "print(chat_template_with_system_message.input_variables)"
   ]
  },
  {
   "cell_type": "markdown",
   "metadata": {},
   "source": [
    "### Run the model\n",
    "\n",
    "Note that the model has removed its chatter from around the code block."
   ]
  },
  {
   "cell_type": "code",
   "execution_count": 16,
   "metadata": {},
   "outputs": [
    {
     "name": "stdout",
     "output_type": "stream",
     "text": [
      "Sure, here is the Bash script for printing the first 50 files found under the current working directory that have been modified within the last week, along with their last modification times:\n",
      "```bash\n",
      "#!/bin/bash\n",
      "\n",
      "# Set the maximum number of lines to display\n",
      "LIMIT=50\n",
      "\n",
      "# Get the current date and time in seconds since the Unix epoch\n",
      "NOW=$(date +%s)\n",
      "\n",
      "# Subtract 7 days from the current date and time in seconds\n",
      "SEVEN_DAYS_AGO=$((NOW - 604800))\n",
      "\n",
      "# Find all files modified within the last week\n",
      "FILES=$(find . -type f -mtime -1 | head -n $LIMIT)\n",
      "\n",
      "# Loop through each file and print its name and modification time\n",
      "for FILE in $FILES; do\n",
      "  echo \"$FILE: $(stat -c %y $FILE)\"\n",
      "done\n",
      "```\n",
      "To run this script, save it to a file (e.g., `last_week_files.sh`) and make it executable using the command `chmod +x last_week_files.sh`. Then you can execute the script by running `./last_week_files.sh` in the terminal. The output will display the names of the first 50 files found under the current working directory that have been modified within the last week, along with their last modification times.\n",
      "\n"
     ]
    }
   ],
   "source": [
    "chain_sys = chat_template_with_system_message | model\n",
    "response = chain_sys.invoke({\"question\": prompt})\n",
    "print(response)"
   ]
  },
  {
   "cell_type": "markdown",
   "metadata": {},
   "source": [
    "### For further study\n",
    "- Try different queries. Test them to see if the model generated them correctly.\n",
    "- Try invoking the model chain several times. How do the responses change from one invocation to the next?\n",
    "- Try adding more examples to the `examples` string or modifying the ones shown. Does this affect the outputs?"
   ]
  }
 ],
 "metadata": {
  "kernelspec": {
   "display_name": ".venv",
   "language": "python",
   "name": "python3"
  },
  "language_info": {
   "codemirror_mode": {
    "name": "ipython",
    "version": 3
   },
   "file_extension": ".py",
   "mimetype": "text/x-python",
   "name": "python",
   "nbconvert_exporter": "python",
   "pygments_lexer": "ipython3",
   "version": "3.11.9"
  }
 },
 "nbformat": 4,
 "nbformat_minor": 4
}
