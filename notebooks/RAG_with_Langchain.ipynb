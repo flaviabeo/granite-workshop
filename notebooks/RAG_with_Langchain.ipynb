{
 "cells": [
  {
   "attachments": {},
   "cell_type": "markdown",
   "metadata": {
    "pycharm": {
     "name": "#%% md\n"
    }
   },
   "source": [
    "# Retrieval Augmented Generation (RAG) with Langchain\n",
    "*Using IBM Granite Models*"
   ]
  },
  {
   "cell_type": "markdown",
   "metadata": {
    "jupyter": {
     "outputs_hidden": false
    },
    "pycharm": {
     "name": "#%% md\n"
    }
   },
   "source": [
    "## In this notebook\n",
    "This notebook contains instructions for performing Retrieval Augumented Generation (RAG). RAG is an architectural pattern that can be used to augment the performance of language models by recalling factual information from a knowledge base, and adding that information to the model query. The most common approach in RAG is to create dense vector representations of the knowledge base in order to retrieve text chunks that are semantically similar to a given user query.\n",
    "\n",
    "RAG use cases include:\n",
    "- Customer service: Answering questions about a product or service using facts from the product documentation.\n",
    "- Domain knowledge: Exploring a specialized domain (e.g., finance) using facts from papers or articles in the knowledge base.\n",
    "- News chat: Chatting about current events by calling up relevant recent news articles.\n",
    "\n",
    "In its simplest form, RAG requires 3 steps:\n",
    "\n",
    "- Initial setup:\n",
    "  - Index knowledge-base passages for efficient retrieval. In this recipe, we take embeddings of the passages and store them in a vector database.\n",
    "- Upon each user query:\n",
    "  - Retrieve relevant passages from the database. In this recipe, we use an embedding of the query to retrieve semantically similar passages.\n",
    "  - Generate a response by feeding retrieved passage into a large language model, along with the user query."
   ]
  },
  {
   "cell_type": "markdown",
   "metadata": {
    "jupyter": {
     "outputs_hidden": false
    },
    "pycharm": {
     "name": "#%% md\n"
    }
   },
   "source": [
    "## Setting up the environment\n",
    "\n",
    "Ensure you are running python 3.10, 3.11, or 3.12 in a freshly-created virtual environment."
   ]
  },
  {
   "cell_type": "code",
   "execution_count": 5,
   "metadata": {},
   "outputs": [],
   "source": [
    "import sys\n",
    "assert sys.version_info >= (3, 10) and sys.version_info < (3, 13), \"Use Python 3.10, 3.11, or 3.12 to run this notebook.\""
   ]
  },
  {
   "cell_type": "markdown",
   "metadata": {
    "jupyter": {
     "outputs_hidden": false
    },
    "pycharm": {
     "name": "#%% md\n"
    }
   },
   "source": [
    "### Install dependencies"
   ]
  },
  {
   "cell_type": "markdown",
   "metadata": {},
   "source": [
    "Granite utils provides some helpful functions for recipes."
   ]
  },
  {
   "cell_type": "code",
   "execution_count": 1,
   "metadata": {},
   "outputs": [
    {
     "name": "stdout",
     "output_type": "stream",
     "text": [
      "Collecting git+https://github.com/ibm-granite-community/granite-kitchen.git\n",
      "  Cloning https://github.com/ibm-granite-community/granite-kitchen.git to /private/var/folders/5x/cztshy892cbf92p2fdgqlxhc0000gn/T/pip-req-build-e5ric6s1\n",
      "  Running command git clone --filter=blob:none --quiet https://github.com/ibm-granite-community/granite-kitchen.git /private/var/folders/5x/cztshy892cbf92p2fdgqlxhc0000gn/T/pip-req-build-e5ric6s1\n",
      "  Resolved https://github.com/ibm-granite-community/granite-kitchen.git to commit dfecc88262b948cc9f703904f8f356108ab0f9cf\n",
      "  Preparing metadata (setup.py) ... \u001b[?25ldone\n",
      "\u001b[?25hRequirement already satisfied: langchain-huggingface in /Users/flaviajaninebeo/Documents/Virtualenvs/granite-workshop/lib/python3.11/site-packages (0.0.3)\n",
      "Requirement already satisfied: langchain-milvus in /Users/flaviajaninebeo/Documents/Virtualenvs/granite-workshop/lib/python3.11/site-packages (0.1.7)\n",
      "Requirement already satisfied: wget in /Users/flaviajaninebeo/Documents/Virtualenvs/granite-workshop/lib/python3.11/site-packages (3.2)\n",
      "Collecting ibm-granite-community-utils@ git+https://github.com/ibm-granite-community/utils (from granite-kitchen==0.1.0)\n",
      "  Cloning https://github.com/ibm-granite-community/utils to /private/var/folders/5x/cztshy892cbf92p2fdgqlxhc0000gn/T/pip-install-mv9bodfe/ibm-granite-community-utils_e6897180527941208ebbd943907ea509\n",
      "  Running command git clone --filter=blob:none --quiet https://github.com/ibm-granite-community/utils /private/var/folders/5x/cztshy892cbf92p2fdgqlxhc0000gn/T/pip-install-mv9bodfe/ibm-granite-community-utils_e6897180527941208ebbd943907ea509\n",
      "  Resolved https://github.com/ibm-granite-community/utils to commit a5965f40db3950dd2a41f3ca62a2c34adcdc20d7\n",
      "  Installing build dependencies ... \u001b[?25ldone\n",
      "\u001b[?25h  Getting requirements to build wheel ... \u001b[?25ldone\n",
      "\u001b[?25h  Preparing metadata (pyproject.toml) ... \u001b[?25ldone\n",
      "\u001b[?25hRequirement already satisfied: langchain_community<0.3.0 in /Users/flaviajaninebeo/Documents/Virtualenvs/granite-workshop/lib/python3.11/site-packages (from granite-kitchen==0.1.0) (0.2.19)\n",
      "Requirement already satisfied: langchain_ollama<0.2.0 in /Users/flaviajaninebeo/Documents/Virtualenvs/granite-workshop/lib/python3.11/site-packages (from granite-kitchen==0.1.0) (0.1.3)\n",
      "Requirement already satisfied: replicate in /Users/flaviajaninebeo/Documents/Virtualenvs/granite-workshop/lib/python3.11/site-packages (from granite-kitchen==0.1.0) (1.0.4)\n",
      "Requirement already satisfied: huggingface-hub>=0.23.0 in /Users/flaviajaninebeo/Documents/Virtualenvs/granite-workshop/lib/python3.11/site-packages (from langchain-huggingface) (0.26.5)\n",
      "Requirement already satisfied: langchain-core<0.3,>=0.1.52 in /Users/flaviajaninebeo/Documents/Virtualenvs/granite-workshop/lib/python3.11/site-packages (from langchain-huggingface) (0.2.43)\n",
      "Requirement already satisfied: sentence-transformers>=2.6.0 in /Users/flaviajaninebeo/Documents/Virtualenvs/granite-workshop/lib/python3.11/site-packages (from langchain-huggingface) (3.3.1)\n",
      "Requirement already satisfied: tokenizers>=0.19.1 in /Users/flaviajaninebeo/Documents/Virtualenvs/granite-workshop/lib/python3.11/site-packages (from langchain-huggingface) (0.21.0)\n",
      "Requirement already satisfied: transformers>=4.39.0 in /Users/flaviajaninebeo/Documents/Virtualenvs/granite-workshop/lib/python3.11/site-packages (from langchain-huggingface) (4.47.0)\n",
      "Requirement already satisfied: pymilvus<3.0.0,>=2.4.3 in /Users/flaviajaninebeo/Documents/Virtualenvs/granite-workshop/lib/python3.11/site-packages (from langchain-milvus) (2.5.0)\n",
      "Requirement already satisfied: filelock in /Users/flaviajaninebeo/Documents/Virtualenvs/granite-workshop/lib/python3.11/site-packages (from huggingface-hub>=0.23.0->langchain-huggingface) (3.16.1)\n",
      "Requirement already satisfied: fsspec>=2023.5.0 in /Users/flaviajaninebeo/Documents/Virtualenvs/granite-workshop/lib/python3.11/site-packages (from huggingface-hub>=0.23.0->langchain-huggingface) (2024.10.0)\n",
      "Requirement already satisfied: packaging>=20.9 in /Users/flaviajaninebeo/Documents/Virtualenvs/granite-workshop/lib/python3.11/site-packages (from huggingface-hub>=0.23.0->langchain-huggingface) (24.2)\n",
      "Requirement already satisfied: pyyaml>=5.1 in /Users/flaviajaninebeo/Documents/Virtualenvs/granite-workshop/lib/python3.11/site-packages (from huggingface-hub>=0.23.0->langchain-huggingface) (6.0.2)\n",
      "Requirement already satisfied: requests in /Users/flaviajaninebeo/Documents/Virtualenvs/granite-workshop/lib/python3.11/site-packages (from huggingface-hub>=0.23.0->langchain-huggingface) (2.32.3)\n",
      "Requirement already satisfied: tqdm>=4.42.1 in /Users/flaviajaninebeo/Documents/Virtualenvs/granite-workshop/lib/python3.11/site-packages (from huggingface-hub>=0.23.0->langchain-huggingface) (4.67.1)\n",
      "Requirement already satisfied: typing-extensions>=3.7.4.3 in /Users/flaviajaninebeo/Documents/Virtualenvs/granite-workshop/lib/python3.11/site-packages (from huggingface-hub>=0.23.0->langchain-huggingface) (4.12.2)\n",
      "Requirement already satisfied: SQLAlchemy<3,>=1.4 in /Users/flaviajaninebeo/Documents/Virtualenvs/granite-workshop/lib/python3.11/site-packages (from langchain_community<0.3.0->granite-kitchen==0.1.0) (2.0.36)\n",
      "Requirement already satisfied: aiohttp<4.0.0,>=3.8.3 in /Users/flaviajaninebeo/Documents/Virtualenvs/granite-workshop/lib/python3.11/site-packages (from langchain_community<0.3.0->granite-kitchen==0.1.0) (3.11.10)\n",
      "Requirement already satisfied: dataclasses-json<0.7,>=0.5.7 in /Users/flaviajaninebeo/Documents/Virtualenvs/granite-workshop/lib/python3.11/site-packages (from langchain_community<0.3.0->granite-kitchen==0.1.0) (0.6.7)\n",
      "Requirement already satisfied: langchain<0.3.0,>=0.2.17 in /Users/flaviajaninebeo/Documents/Virtualenvs/granite-workshop/lib/python3.11/site-packages (from langchain_community<0.3.0->granite-kitchen==0.1.0) (0.2.17)\n",
      "Requirement already satisfied: langsmith<0.2.0,>=0.1.112 in /Users/flaviajaninebeo/Documents/Virtualenvs/granite-workshop/lib/python3.11/site-packages (from langchain_community<0.3.0->granite-kitchen==0.1.0) (0.1.147)\n",
      "Requirement already satisfied: numpy<2,>=1 in /Users/flaviajaninebeo/Documents/Virtualenvs/granite-workshop/lib/python3.11/site-packages (from langchain_community<0.3.0->granite-kitchen==0.1.0) (1.26.4)\n",
      "Requirement already satisfied: tenacity!=8.4.0,<9.0.0,>=8.1.0 in /Users/flaviajaninebeo/Documents/Virtualenvs/granite-workshop/lib/python3.11/site-packages (from langchain_community<0.3.0->granite-kitchen==0.1.0) (8.5.0)\n",
      "Requirement already satisfied: jsonpatch<2.0,>=1.33 in /Users/flaviajaninebeo/Documents/Virtualenvs/granite-workshop/lib/python3.11/site-packages (from langchain-core<0.3,>=0.1.52->langchain-huggingface) (1.33)\n",
      "Requirement already satisfied: pydantic<3,>=1 in /Users/flaviajaninebeo/Documents/Virtualenvs/granite-workshop/lib/python3.11/site-packages (from langchain-core<0.3,>=0.1.52->langchain-huggingface) (2.9.2)\n",
      "Requirement already satisfied: ollama<1,>=0.3.0 in /Users/flaviajaninebeo/Documents/Virtualenvs/granite-workshop/lib/python3.11/site-packages (from langchain_ollama<0.2.0->granite-kitchen==0.1.0) (0.4.4)\n",
      "Requirement already satisfied: setuptools>69 in /Users/flaviajaninebeo/Documents/Virtualenvs/granite-workshop/lib/python3.11/site-packages (from pymilvus<3.0.0,>=2.4.3->langchain-milvus) (75.3.0)\n",
      "Requirement already satisfied: grpcio<=1.67.1,>=1.49.1 in /Users/flaviajaninebeo/Documents/Virtualenvs/granite-workshop/lib/python3.11/site-packages (from pymilvus<3.0.0,>=2.4.3->langchain-milvus) (1.67.1)\n",
      "Requirement already satisfied: protobuf>=3.20.0 in /Users/flaviajaninebeo/Documents/Virtualenvs/granite-workshop/lib/python3.11/site-packages (from pymilvus<3.0.0,>=2.4.3->langchain-milvus) (5.29.1)\n",
      "Requirement already satisfied: python-dotenv<2.0.0,>=1.0.1 in /Users/flaviajaninebeo/Documents/Virtualenvs/granite-workshop/lib/python3.11/site-packages (from pymilvus<3.0.0,>=2.4.3->langchain-milvus) (1.0.1)\n",
      "Requirement already satisfied: ujson>=2.0.0 in /Users/flaviajaninebeo/Documents/Virtualenvs/granite-workshop/lib/python3.11/site-packages (from pymilvus<3.0.0,>=2.4.3->langchain-milvus) (5.10.0)\n",
      "Requirement already satisfied: pandas>=1.2.4 in /Users/flaviajaninebeo/Documents/Virtualenvs/granite-workshop/lib/python3.11/site-packages (from pymilvus<3.0.0,>=2.4.3->langchain-milvus) (2.2.3)\n",
      "Requirement already satisfied: milvus-lite>=2.4.0 in /Users/flaviajaninebeo/Documents/Virtualenvs/granite-workshop/lib/python3.11/site-packages (from pymilvus<3.0.0,>=2.4.3->langchain-milvus) (2.4.10)\n",
      "Requirement already satisfied: torch>=1.11.0 in /Users/flaviajaninebeo/Documents/Virtualenvs/granite-workshop/lib/python3.11/site-packages (from sentence-transformers>=2.6.0->langchain-huggingface) (2.5.1)\n",
      "Requirement already satisfied: scikit-learn in /Users/flaviajaninebeo/Documents/Virtualenvs/granite-workshop/lib/python3.11/site-packages (from sentence-transformers>=2.6.0->langchain-huggingface) (1.5.2)\n",
      "Requirement already satisfied: scipy in /Users/flaviajaninebeo/Documents/Virtualenvs/granite-workshop/lib/python3.11/site-packages (from sentence-transformers>=2.6.0->langchain-huggingface) (1.14.1)\n",
      "Requirement already satisfied: Pillow in /Users/flaviajaninebeo/Documents/Virtualenvs/granite-workshop/lib/python3.11/site-packages (from sentence-transformers>=2.6.0->langchain-huggingface) (11.0.0)\n",
      "Requirement already satisfied: regex!=2019.12.17 in /Users/flaviajaninebeo/Documents/Virtualenvs/granite-workshop/lib/python3.11/site-packages (from transformers>=4.39.0->langchain-huggingface) (2024.11.6)\n",
      "Requirement already satisfied: safetensors>=0.4.1 in /Users/flaviajaninebeo/Documents/Virtualenvs/granite-workshop/lib/python3.11/site-packages (from transformers>=4.39.0->langchain-huggingface) (0.4.5)\n",
      "Requirement already satisfied: httpx<1,>=0.21.0 in /Users/flaviajaninebeo/Documents/Virtualenvs/granite-workshop/lib/python3.11/site-packages (from replicate->granite-kitchen==0.1.0) (0.27.2)\n",
      "Requirement already satisfied: aiohappyeyeballs>=2.3.0 in /Users/flaviajaninebeo/Documents/Virtualenvs/granite-workshop/lib/python3.11/site-packages (from aiohttp<4.0.0,>=3.8.3->langchain_community<0.3.0->granite-kitchen==0.1.0) (2.4.4)\n",
      "Requirement already satisfied: aiosignal>=1.1.2 in /Users/flaviajaninebeo/Documents/Virtualenvs/granite-workshop/lib/python3.11/site-packages (from aiohttp<4.0.0,>=3.8.3->langchain_community<0.3.0->granite-kitchen==0.1.0) (1.3.1)\n",
      "Requirement already satisfied: attrs>=17.3.0 in /Users/flaviajaninebeo/Documents/Virtualenvs/granite-workshop/lib/python3.11/site-packages (from aiohttp<4.0.0,>=3.8.3->langchain_community<0.3.0->granite-kitchen==0.1.0) (24.2.0)\n",
      "Requirement already satisfied: frozenlist>=1.1.1 in /Users/flaviajaninebeo/Documents/Virtualenvs/granite-workshop/lib/python3.11/site-packages (from aiohttp<4.0.0,>=3.8.3->langchain_community<0.3.0->granite-kitchen==0.1.0) (1.5.0)\n",
      "Requirement already satisfied: multidict<7.0,>=4.5 in /Users/flaviajaninebeo/Documents/Virtualenvs/granite-workshop/lib/python3.11/site-packages (from aiohttp<4.0.0,>=3.8.3->langchain_community<0.3.0->granite-kitchen==0.1.0) (6.1.0)\n",
      "Requirement already satisfied: propcache>=0.2.0 in /Users/flaviajaninebeo/Documents/Virtualenvs/granite-workshop/lib/python3.11/site-packages (from aiohttp<4.0.0,>=3.8.3->langchain_community<0.3.0->granite-kitchen==0.1.0) (0.2.1)\n",
      "Requirement already satisfied: yarl<2.0,>=1.17.0 in /Users/flaviajaninebeo/Documents/Virtualenvs/granite-workshop/lib/python3.11/site-packages (from aiohttp<4.0.0,>=3.8.3->langchain_community<0.3.0->granite-kitchen==0.1.0) (1.18.3)\n",
      "Requirement already satisfied: marshmallow<4.0.0,>=3.18.0 in /Users/flaviajaninebeo/Documents/Virtualenvs/granite-workshop/lib/python3.11/site-packages (from dataclasses-json<0.7,>=0.5.7->langchain_community<0.3.0->granite-kitchen==0.1.0) (3.23.1)\n",
      "Requirement already satisfied: typing-inspect<1,>=0.4.0 in /Users/flaviajaninebeo/Documents/Virtualenvs/granite-workshop/lib/python3.11/site-packages (from dataclasses-json<0.7,>=0.5.7->langchain_community<0.3.0->granite-kitchen==0.1.0) (0.9.0)\n",
      "Requirement already satisfied: anyio in /Users/flaviajaninebeo/Documents/Virtualenvs/granite-workshop/lib/python3.11/site-packages (from httpx<1,>=0.21.0->replicate->granite-kitchen==0.1.0) (4.7.0)\n",
      "Requirement already satisfied: certifi in /Users/flaviajaninebeo/Documents/Virtualenvs/granite-workshop/lib/python3.11/site-packages (from httpx<1,>=0.21.0->replicate->granite-kitchen==0.1.0) (2024.8.30)\n",
      "Requirement already satisfied: httpcore==1.* in /Users/flaviajaninebeo/Documents/Virtualenvs/granite-workshop/lib/python3.11/site-packages (from httpx<1,>=0.21.0->replicate->granite-kitchen==0.1.0) (1.0.7)\n",
      "Requirement already satisfied: idna in /Users/flaviajaninebeo/Documents/Virtualenvs/granite-workshop/lib/python3.11/site-packages (from httpx<1,>=0.21.0->replicate->granite-kitchen==0.1.0) (3.10)\n",
      "Requirement already satisfied: sniffio in /Users/flaviajaninebeo/Documents/Virtualenvs/granite-workshop/lib/python3.11/site-packages (from httpx<1,>=0.21.0->replicate->granite-kitchen==0.1.0) (1.3.1)\n",
      "Requirement already satisfied: h11<0.15,>=0.13 in /Users/flaviajaninebeo/Documents/Virtualenvs/granite-workshop/lib/python3.11/site-packages (from httpcore==1.*->httpx<1,>=0.21.0->replicate->granite-kitchen==0.1.0) (0.14.0)\n",
      "Requirement already satisfied: jsonpointer>=1.9 in /Users/flaviajaninebeo/Documents/Virtualenvs/granite-workshop/lib/python3.11/site-packages (from jsonpatch<2.0,>=1.33->langchain-core<0.3,>=0.1.52->langchain-huggingface) (3.0.0)\n",
      "Requirement already satisfied: langchain-text-splitters<0.3.0,>=0.2.0 in /Users/flaviajaninebeo/Documents/Virtualenvs/granite-workshop/lib/python3.11/site-packages (from langchain<0.3.0,>=0.2.17->langchain_community<0.3.0->granite-kitchen==0.1.0) (0.2.4)\n",
      "Requirement already satisfied: orjson<4.0.0,>=3.9.14 in /Users/flaviajaninebeo/Documents/Virtualenvs/granite-workshop/lib/python3.11/site-packages (from langsmith<0.2.0,>=0.1.112->langchain_community<0.3.0->granite-kitchen==0.1.0) (3.10.12)\n",
      "Requirement already satisfied: requests-toolbelt<2.0.0,>=1.0.0 in /Users/flaviajaninebeo/Documents/Virtualenvs/granite-workshop/lib/python3.11/site-packages (from langsmith<0.2.0,>=0.1.112->langchain_community<0.3.0->granite-kitchen==0.1.0) (1.0.0)\n",
      "Requirement already satisfied: python-dateutil>=2.8.2 in /Users/flaviajaninebeo/Documents/Virtualenvs/granite-workshop/lib/python3.11/site-packages (from pandas>=1.2.4->pymilvus<3.0.0,>=2.4.3->langchain-milvus) (2.9.0.post0)\n",
      "Requirement already satisfied: pytz>=2020.1 in /Users/flaviajaninebeo/Documents/Virtualenvs/granite-workshop/lib/python3.11/site-packages (from pandas>=1.2.4->pymilvus<3.0.0,>=2.4.3->langchain-milvus) (2024.2)\n",
      "Requirement already satisfied: tzdata>=2022.7 in /Users/flaviajaninebeo/Documents/Virtualenvs/granite-workshop/lib/python3.11/site-packages (from pandas>=1.2.4->pymilvus<3.0.0,>=2.4.3->langchain-milvus) (2024.2)\n",
      "Requirement already satisfied: annotated-types>=0.6.0 in /Users/flaviajaninebeo/Documents/Virtualenvs/granite-workshop/lib/python3.11/site-packages (from pydantic<3,>=1->langchain-core<0.3,>=0.1.52->langchain-huggingface) (0.7.0)\n",
      "Requirement already satisfied: pydantic-core==2.23.4 in /Users/flaviajaninebeo/Documents/Virtualenvs/granite-workshop/lib/python3.11/site-packages (from pydantic<3,>=1->langchain-core<0.3,>=0.1.52->langchain-huggingface) (2.23.4)\n",
      "Requirement already satisfied: charset-normalizer<4,>=2 in /Users/flaviajaninebeo/Documents/Virtualenvs/granite-workshop/lib/python3.11/site-packages (from requests->huggingface-hub>=0.23.0->langchain-huggingface) (3.4.0)\n",
      "Requirement already satisfied: urllib3<3,>=1.21.1 in /Users/flaviajaninebeo/Documents/Virtualenvs/granite-workshop/lib/python3.11/site-packages (from requests->huggingface-hub>=0.23.0->langchain-huggingface) (2.2.3)\n",
      "Requirement already satisfied: networkx in /Users/flaviajaninebeo/Documents/Virtualenvs/granite-workshop/lib/python3.11/site-packages (from torch>=1.11.0->sentence-transformers>=2.6.0->langchain-huggingface) (3.4.2)\n",
      "Requirement already satisfied: jinja2 in /Users/flaviajaninebeo/Documents/Virtualenvs/granite-workshop/lib/python3.11/site-packages (from torch>=1.11.0->sentence-transformers>=2.6.0->langchain-huggingface) (3.1.4)\n",
      "Requirement already satisfied: sympy==1.13.1 in /Users/flaviajaninebeo/Documents/Virtualenvs/granite-workshop/lib/python3.11/site-packages (from torch>=1.11.0->sentence-transformers>=2.6.0->langchain-huggingface) (1.13.1)\n",
      "Requirement already satisfied: mpmath<1.4,>=1.1.0 in /Users/flaviajaninebeo/Documents/Virtualenvs/granite-workshop/lib/python3.11/site-packages (from sympy==1.13.1->torch>=1.11.0->sentence-transformers>=2.6.0->langchain-huggingface) (1.3.0)\n",
      "Requirement already satisfied: joblib>=1.2.0 in /Users/flaviajaninebeo/Documents/Virtualenvs/granite-workshop/lib/python3.11/site-packages (from scikit-learn->sentence-transformers>=2.6.0->langchain-huggingface) (1.4.2)\n",
      "Requirement already satisfied: threadpoolctl>=3.1.0 in /Users/flaviajaninebeo/Documents/Virtualenvs/granite-workshop/lib/python3.11/site-packages (from scikit-learn->sentence-transformers>=2.6.0->langchain-huggingface) (3.5.0)\n",
      "Requirement already satisfied: six>=1.5 in /Users/flaviajaninebeo/Documents/Virtualenvs/granite-workshop/lib/python3.11/site-packages (from python-dateutil>=2.8.2->pandas>=1.2.4->pymilvus<3.0.0,>=2.4.3->langchain-milvus) (1.17.0)\n",
      "Requirement already satisfied: mypy-extensions>=0.3.0 in /Users/flaviajaninebeo/Documents/Virtualenvs/granite-workshop/lib/python3.11/site-packages (from typing-inspect<1,>=0.4.0->dataclasses-json<0.7,>=0.5.7->langchain_community<0.3.0->granite-kitchen==0.1.0) (1.0.0)\n",
      "Requirement already satisfied: MarkupSafe>=2.0 in /Users/flaviajaninebeo/Documents/Virtualenvs/granite-workshop/lib/python3.11/site-packages (from jinja2->torch>=1.11.0->sentence-transformers>=2.6.0->langchain-huggingface) (3.0.2)\n"
     ]
    }
   ],
   "source": [
    "! pip install git+https://github.com/ibm-granite-community/utils \\\n",
    "    transformers \\\n",
    "    langchain_community \\\n",
    "    langchain-huggingface \\\n",
    "    langchain_ollama \\\n",
    "    langchain-milvus \\\n",
    "    replicate \\\n",
    "    wget"
   ]
  },
  {
   "cell_type": "markdown",
   "metadata": {},
   "source": [
    "### Serving the Granite AI model"
   ]
  },
  {
   "cell_type": "markdown",
   "metadata": {},
   "source": [
    "\n",
    "This notebook requires IBM Granite models to be served by an AI model runtime so that the models can be invoked or called. This notebook can use a locally accessible [Ollama](https://github.com/ollama/ollama) server to serve the models, or the [Replicate](https://replicate.com) cloud service.\n",
    "\n",
    "During the pre-work, you may have either started a local Ollama server on your computer, or setup Replicate access and obtained an [API token](https://replicate.com/account/api-tokens)."
   ]
  },
  {
   "cell_type": "markdown",
   "metadata": {},
   "source": [
    "## Selecting System Components"
   ]
  },
  {
   "cell_type": "markdown",
   "metadata": {},
   "source": [
    "### Choose your Embeddings Model"
   ]
  },
  {
   "cell_type": "markdown",
   "metadata": {},
   "source": [
    "Specify the model to use for generating embedding vectors from text.\n",
    "\n",
    "To use a model from a provider other than Huggingface, replace this code cell with one from [this Embeddings Model recipe](https://github.com/ibm-granite-community/granite-kitchen/blob/main/recipes/Components/Langchain_Embeddings_Models.ipynb)."
   ]
  },
  {
   "cell_type": "code",
   "execution_count": 2,
   "metadata": {},
   "outputs": [
    {
     "name": "stderr",
     "output_type": "stream",
     "text": [
      "/Users/flaviajaninebeo/Documents/Virtualenvs/granite-workshop/lib/python3.11/site-packages/tqdm/auto.py:21: TqdmWarning: IProgress not found. Please update jupyter and ipywidgets. See https://ipywidgets.readthedocs.io/en/stable/user_install.html\n",
      "  from .autonotebook import tqdm as notebook_tqdm\n"
     ]
    }
   ],
   "source": [
    "from langchain_huggingface import HuggingFaceEmbeddings\n",
    "from transformers import AutoTokenizer\n",
    "\n",
    "embeddings_model_path = \"ibm-granite/granite-embedding-30m-english\"\n",
    "embeddings_model = HuggingFaceEmbeddings(\n",
    "    model_name=embeddings_model_path,\n",
    ")\n",
    "embeddings_tokenizer = AutoTokenizer.from_pretrained(embeddings_model_path)"
   ]
  },
  {
   "cell_type": "markdown",
   "metadata": {},
   "source": [
    "### Choose your Vector Database\n",
    "\n",
    "Specify the database to use for storing and retrieving embedding vectors.\n",
    "\n",
    "To connect to a vector database other than Milvus substitute this code cell with one from [this Vector Store recipe](https://github.com/ibm-granite-community/granite-kitchen/blob/main/recipes/Components/Langchain_Vector_Stores.ipynb)."
   ]
  },
  {
   "cell_type": "code",
   "execution_count": 3,
   "metadata": {},
   "outputs": [
    {
     "name": "stdout",
     "output_type": "stream",
     "text": [
      "The vector database will be saved to /var/folders/5x/cztshy892cbf92p2fdgqlxhc0000gn/T/milvus_jlwamqh8.db\n"
     ]
    }
   ],
   "source": [
    "from langchain_milvus import Milvus\n",
    "import tempfile\n",
    "\n",
    "db_file = tempfile.NamedTemporaryFile(prefix=\"milvus_\", suffix=\".db\", delete=False).name\n",
    "print(f\"The vector database will be saved to {db_file}\")\n",
    "\n",
    "vector_db = Milvus(\n",
    "    embedding_function=embeddings_model,\n",
    "    connection_args={\"uri\": db_file},\n",
    "    auto_id=True,\n",
    "    index_params={\"index_type\": \"AUTOINDEX\"},\n",
    ")"
   ]
  },
  {
   "cell_type": "markdown",
   "metadata": {
    "jupyter": {
     "outputs_hidden": false
    },
    "pycharm": {
     "name": "#%% md\n"
    }
   },
   "source": [
    "## Select your model"
   ]
  },
  {
   "cell_type": "markdown",
   "metadata": {},
   "source": [
    "Select a Granite model to use. Here we use a Langchain client to connect to the model. If there is a locally accessible Ollama server, we use an Ollama client to access the model. Otherwise, we use a Replicate client to access the model.\n",
    "\n",
    "When using Replicate, if the `REPLICATE_API_TOKEN` environment variable is not set, or a `REPLICATE_API_TOKEN` Colab secret is not set, then the notebook will ask for your [Replicate API token](https://replicate.com/account/api-tokens) in a dialog box."
   ]
  },
  {
   "cell_type": "code",
   "execution_count": 4,
   "metadata": {},
   "outputs": [],
   "source": [
    "import os\n",
    "import requests\n",
    "from langchain_ollama.llms import OllamaLLM\n",
    "from langchain_community.llms import Replicate\n",
    "from ibm_granite_community.notebook_utils import get_env_var\n",
    "\n",
    "model_path = \"ibm-granite/granite-3.2-8b-instruct\"\n",
    "\n",
    "try: # Look for a locally accessible Ollama server for the model\n",
    "    response = requests.get(os.getenv(\"OLLAMA_HOST\", \"http://127.0.0.1:11434\"))\n",
    "    model = OllamaLLM(\n",
    "        model=\"granite3.2:2b\",\n",
    "    )\n",
    "    model = model.bind(raw=True) # Client side controls prompt\n",
    "except Exception: # Use Replicate for the model\n",
    "    model = Replicate(\n",
    "        model=model_path,\n",
    "        replicate_api_token=get_env_var('REPLICATE_API_TOKEN'),\n",
    "    )\n",
    "\n",
    "tokenizer = AutoTokenizer.from_pretrained(model_path)"
   ]
  },
  {
   "cell_type": "markdown",
   "metadata": {
    "jupyter": {
     "outputs_hidden": false
    },
    "pycharm": {
     "name": "#%% md\n"
    }
   },
   "source": [
    "## Building the Vector Database\n",
    "\n",
    "In this example, we take the State of the Union speech text, split it into chunks, derive embedding vectors using the embedding model, and load it into the vector database for querying."
   ]
  },
  {
   "cell_type": "markdown",
   "metadata": {},
   "source": [
    "### Download the document\n",
    "\n",
    "Here we use President Biden's State of the Union address from March 1, 2022."
   ]
  },
  {
   "cell_type": "code",
   "execution_count": 14,
   "metadata": {
    "jupyter": {
     "outputs_hidden": false
    },
    "pycharm": {
     "name": "#%%\n"
    }
   },
   "outputs": [],
   "source": [
    "import os\n",
    "import wget\n",
    "\n",
    "filename = 'state_of_the_union.txt'\n",
    "url = 'https://raw.githubusercontent.com/IBM/watson-machine-learning-samples/master/cloud/data/foundation_models/state_of_the_union.txt'\n",
    "\n",
    "if not os.path.isfile(filename):\n",
    "  wget.download(url, out=filename)"
   ]
  },
  {
   "cell_type": "markdown",
   "metadata": {},
   "source": [
    "### Split the document into chunks\n",
    "\n",
    "Split the document into text segments that can fit into the model's context window."
   ]
  },
  {
   "cell_type": "code",
   "execution_count": 15,
   "metadata": {
    "jupyter": {
     "outputs_hidden": false
    },
    "pycharm": {
     "name": "#%%\n"
    }
   },
   "outputs": [],
   "source": [
    "from langchain.document_loaders import TextLoader\n",
    "from langchain.text_splitter import CharacterTextSplitter\n",
    "\n",
    "loader = TextLoader(filename)\n",
    "documents = loader.load()\n",
    "text_splitter = CharacterTextSplitter.from_huggingface_tokenizer(\n",
    "    tokenizer=embeddings_tokenizer,\n",
    "    chunk_size=embeddings_tokenizer.max_len_single_sentence,\n",
    "    chunk_overlap=0,\n",
    ")\n",
    "texts = text_splitter.split_documents(documents)\n",
    "for doc_id, text in enumerate(texts):\n",
    "    text.metadata[\"doc_id\"] = doc_id\n",
    "print(f\"{len(texts)} text document chunks created\")"
   ]
  },
  {
   "cell_type": "markdown",
   "metadata": {
    "jupyter": {
     "outputs_hidden": false
    },
    "pycharm": {
     "name": "#%% md\n"
    }
   },
   "source": [
    "### Populate the vector database\n",
    "\n",
    "NOTE: Population of the vector database may take over a minute depending on your embedding model and service."
   ]
  },
  {
   "cell_type": "code",
   "execution_count": 16,
   "metadata": {},
   "outputs": [
    {
     "data": {
      "text/plain": [
       "[454518073358286932,\n",
       " 454518073358286933,\n",
       " 454518073358286934,\n",
       " 454518073358286935,\n",
       " 454518073358286936,\n",
       " 454518073358286937,\n",
       " 454518073358286938,\n",
       " 454518073358286939,\n",
       " 454518073358286940,\n",
       " 454518073358286941,\n",
       " 454518073358286942,\n",
       " 454518073358286943,\n",
       " 454518073358286944,\n",
       " 454518073358286945,\n",
       " 454518073358286946,\n",
       " 454518073358286947,\n",
       " 454518073358286948,\n",
       " 454518073358286949,\n",
       " 454518073358286950,\n",
       " 454518073358286951,\n",
       " 454518073358286952,\n",
       " 454518073358286953,\n",
       " 454518073358286954,\n",
       " 454518073358286955,\n",
       " 454518073358286956,\n",
       " 454518073358286957,\n",
       " 454518073358286958,\n",
       " 454518073358286959,\n",
       " 454518073358286960,\n",
       " 454518073358286961,\n",
       " 454518073358286962,\n",
       " 454518073358286963,\n",
       " 454518073358286964,\n",
       " 454518073358286965,\n",
       " 454518073358286966,\n",
       " 454518073358286967,\n",
       " 454518073358286968,\n",
       " 454518073358286969,\n",
       " 454518073358286970,\n",
       " 454518073358286971,\n",
       " 454518073358286972,\n",
       " 454518073358286973]"
      ]
     },
     "execution_count": 16,
     "metadata": {},
     "output_type": "execute_result"
    }
   ],
   "source": [
    "ids = vector_db.add_documents(texts)\n",
    "print(f\"{len(ids)} documents added to the vector database\")"
   ]
  },
  {
   "cell_type": "markdown",
   "metadata": {},
   "source": [
    "## Querying the Vector Database"
   ]
  },
  {
   "cell_type": "markdown",
   "metadata": {},
   "source": [
    "### Conduct a similarity search\n",
    "\n",
    "Search the database for similar documents by proximity of the embedded vector in vector space."
   ]
  },
  {
   "cell_type": "code",
   "execution_count": 17,
   "metadata": {},
   "outputs": [
    {
     "name": "stdout",
     "output_type": "stream",
     "text": [
      "Tonight. I call on the Senate to: Pass the Freedom to Vote Act. Pass the John Lewis Voting Rights Act. And while you’re at it, pass the Disclose Act so Americans can know who is funding our elections. \n",
      "\n",
      "Tonight, I’d like to honor someone who has dedicated his life to serve this country: Justice Stephen Breyer—an Army veteran, Constitutional scholar, and retiring Justice of the United States Supreme Court. Justice Breyer, thank you for your service. \n",
      "\n",
      "One of the most serious constitutional responsibilities a President has is nominating someone to serve on the United States Supreme Court. \n",
      "\n",
      "And I did that 4 days ago, when I nominated Circuit Court of Appeals Judge Ketanji Brown Jackson. One of our nation’s top legal minds, who will continue Justice Breyer’s legacy of excellence.\n"
     ]
    }
   ],
   "source": [
    "query = \"What did the president say about Ketanji Brown Jackson?\"\n",
    "docs = vector_db.similarity_search(query)\n",
    "print(f\"{len(docs)} documents returned\")\n",
    "for doc in docs:\n",
    "    print(doc)\n",
    "    print(\"=\" * 80)  # Separator for clarity"
   ]
  },
  {
   "cell_type": "markdown",
   "metadata": {},
   "source": [
    "## Answering Questions"
   ]
  },
  {
   "cell_type": "markdown",
   "metadata": {},
   "source": [
    "### Automate the RAG pipeline\n",
    "\n",
    "Build a RAG chain with the model and the document retriever.\n",
    "\n",
    "First we create the prompts for Granite to perform the RAG query. We use the Granite chat template and supply the placeholder values that the LangChain RAG pipeline will replace.\n",
    "\n",
    "`{context}` will hold the retrieved chunks, as shown in the previous search, and feeds this to the model as document context for answering our question.\n",
    "\n",
    "Next, we construct the RAG pipeline by using the Granite prompt templates previously created."
   ]
  },
  {
   "cell_type": "code",
   "execution_count": 19,
   "metadata": {},
   "outputs": [],
   "source": [
    "from langchain.prompts import PromptTemplate\n",
    "from langchain.chains.retrieval import create_retrieval_chain\n",
    "from langchain.chains.combine_documents import create_stuff_documents_chain\n",
    "\n",
    "# Create a Granite prompt for question-answering with the retrieved context\n",
    "prompt = tokenizer.apply_chat_template(\n",
    "    conversation=[{\n",
    "        \"role\": \"user\",\n",
    "        \"content\": \"{input}\",\n",
    "    }],\n",
    "    documents=[{\n",
    "        \"title\": \"placeholder\",\n",
    "        \"text\": \"{context}\",\n",
    "    }],\n",
    "    add_generation_prompt=True,\n",
    "    tokenize=False,\n",
    ")\n",
    "prompt_template = PromptTemplate.from_template(template=prompt)\n",
    "\n",
    "# Create a Granite document prompt template to wrap each retrieved document\n",
    "document_prompt_template = PromptTemplate.from_template(template=\"\"\"\\\n",
    "Document {doc_id}\n",
    "{page_content}\"\"\")\n",
    "document_separator=\"\\n\\n\"\n",
    "\n",
    "# Assemble the retrieval-augmented generation chain\n",
    "combine_docs_chain = create_stuff_documents_chain(\n",
    "    llm=model,\n",
    "    prompt=prompt_template,\n",
    "    document_prompt=document_prompt_template,\n",
    "    document_separator=document_separator,\n",
    ")\n",
    "rag_chain = create_retrieval_chain(\n",
    "    retriever=vector_db.as_retriever(),\n",
    "    combine_docs_chain=combine_docs_chain,\n",
    ")"
   ]
  },
  {
   "cell_type": "code",
   "execution_count": 26,
   "metadata": {},
   "outputs": [],
   "source": [
    "prompt_template = \"\"\"\\\n",
    "<|start_of_role|>user<|end_of_role|>Use the following pieces of context to answer the question at the end.\n",
    "\n",
    "{context}\n",
    "\n",
    "Question: {input}<|end_of_text|>\n",
    "<|start_of_role|>assistant<|end_of_role|>\"\"\"\n",
    "\n",
    "# Assemble the retrieval-augmented generation chain.\n",
    "qa_chain_prompt = PromptTemplate.from_template(prompt_template)\n",
    "combine_docs_chain = create_stuff_documents_chain(model, qa_chain_prompt)"
   ]
  },
  {
   "cell_type": "markdown",
   "metadata": {
    "jupyter": {
     "outputs_hidden": false
    },
    "pycharm": {
     "name": "#%% md\n"
    }
   },
   "source": [
    "### Generate a retrieval-augmented response to a question"
   ]
  },
  {
   "cell_type": "markdown",
   "metadata": {
    "jupyter": {
     "outputs_hidden": false
    },
    "pycharm": {
     "name": "#%% md\n"
    }
   },
   "source": [
    "Use the RAG chain to process a question. The document chunks relevant to that question are retrieved and used as context."
   ]
  },
  {
   "cell_type": "code",
   "execution_count": 20,
   "metadata": {
    "jupyter": {
     "outputs_hidden": false
    },
    "pycharm": {
     "name": "#%%\n"
    }
   },
   "outputs": [
    {
     "name": "stdout",
     "output_type": "stream",
     "text": [
      "The president nominated Ketanji Brown Jackson to serve on the United States Supreme Court. She is a Circuit Court of Appeals Judge and one of our nation's top legal minds. The president described her as continuing Justice Stephen Breyer's legacy of excellence.\n"
     ]
    }
   ],
   "source": [
    "output = rag_chain.invoke({\"input\": query})\n",
    "\n",
    "print(output['answer'])"
   ]
  },
  {
   "cell_type": "code",
   "execution_count": 27,
   "metadata": {},
   "outputs": [
    {
     "data": {
      "text/plain": [
       "\"I'm sorry for the confusion, but I don't have any information about a specific president or Ketanji Brown Jackson. As an AI language model developed by IBM in 2024, my knowledge is based on the data I was trained on and does not include real-time updates or events that occurred after my training period. Therefore, I cannot provide an answer to your question.\""
      ]
     },
     "execution_count": 27,
     "metadata": {},
     "output_type": "execute_result"
    }
   ],
   "source": [
    "combine_docs_chain.invoke({\"input\": \"What did the president say about Ketanji Brown Jackson?\", \"context\": \"\"})"
   ]
  },
  {
   "cell_type": "code",
   "execution_count": 21,
   "metadata": {},
   "outputs": [
    {
     "data": {
      "text/plain": [
       "{'input': 'What did the president say about Ketanji Brown Jackson?',\n",
       " 'context': [Document(metadata={'pk': 454514983435501599, 'source': 'state_of_the_union.txt'}, page_content='Tonight. I call on the Senate to: Pass the Freedom to Vote Act. Pass the John Lewis Voting Rights Act. And while you’re at it, pass the Disclose Act so Americans can know who is funding our elections. \\n\\nTonight, I’d like to honor someone who has dedicated his life to serve this country: Justice Stephen Breyer—an Army veteran, Constitutional scholar, and retiring Justice of the United States Supreme Court. Justice Breyer, thank you for your service. \\n\\nOne of the most serious constitutional responsibilities a President has is nominating someone to serve on the United States Supreme Court. \\n\\nAnd I did that 4 days ago, when I nominated Circuit Court of Appeals Judge Ketanji Brown Jackson. One of our nation’s top legal minds, who will continue Justice Breyer’s legacy of excellence.'),\n",
       "  Document(metadata={'pk': 454518073358286963, 'source': 'state_of_the_union.txt'}, page_content='Tonight. I call on the Senate to: Pass the Freedom to Vote Act. Pass the John Lewis Voting Rights Act. And while you’re at it, pass the Disclose Act so Americans can know who is funding our elections. \\n\\nTonight, I’d like to honor someone who has dedicated his life to serve this country: Justice Stephen Breyer—an Army veteran, Constitutional scholar, and retiring Justice of the United States Supreme Court. Justice Breyer, thank you for your service. \\n\\nOne of the most serious constitutional responsibilities a President has is nominating someone to serve on the United States Supreme Court. \\n\\nAnd I did that 4 days ago, when I nominated Circuit Court of Appeals Judge Ketanji Brown Jackson. One of our nation’s top legal minds, who will continue Justice Breyer’s legacy of excellence.'),\n",
       "  Document(metadata={'pk': 454514983435501568, 'source': 'state_of_the_union.txt'}, page_content='Madam Speaker, Madam Vice President, our First Lady and Second Gentleman. Members of Congress and the Cabinet. Justices of the Supreme Court. My fellow Americans.  \\n\\nLast year COVID-19 kept us apart. This year we are finally together again. \\n\\nTonight, we meet as Democrats Republicans and Independents. But most importantly as Americans. \\n\\nWith a duty to one another to the American people to the Constitution. \\n\\nAnd with an unwavering resolve that freedom will always triumph over tyranny. \\n\\nSix days ago, Russia’s Vladimir Putin sought to shake the foundations of the free world thinking he could make it bend to his menacing ways. But he badly miscalculated. \\n\\nHe thought he could roll into Ukraine and the world would roll over. Instead he met a wall of strength he never imagined. \\n\\nHe met the Ukrainian people. \\n\\nFrom President Zelenskyy to every Ukrainian, their fearlessness, their courage, their determination, inspires the world.'),\n",
       "  Document(metadata={'pk': 454518073358286932, 'source': 'state_of_the_union.txt'}, page_content='Madam Speaker, Madam Vice President, our First Lady and Second Gentleman. Members of Congress and the Cabinet. Justices of the Supreme Court. My fellow Americans.  \\n\\nLast year COVID-19 kept us apart. This year we are finally together again. \\n\\nTonight, we meet as Democrats Republicans and Independents. But most importantly as Americans. \\n\\nWith a duty to one another to the American people to the Constitution. \\n\\nAnd with an unwavering resolve that freedom will always triumph over tyranny. \\n\\nSix days ago, Russia’s Vladimir Putin sought to shake the foundations of the free world thinking he could make it bend to his menacing ways. But he badly miscalculated. \\n\\nHe thought he could roll into Ukraine and the world would roll over. Instead he met a wall of strength he never imagined. \\n\\nHe met the Ukrainian people. \\n\\nFrom President Zelenskyy to every Ukrainian, their fearlessness, their courage, their determination, inspires the world.')],\n",
       " 'answer': \"The president nominated Ketanji Brown Jackson to serve on the United States Supreme Court. She is a Circuit Court of Appeals Judge and one of our nation's top legal minds. The president described her as continuing Justice Stephen Breyer's legacy of excellence.\"}"
      ]
     },
     "execution_count": 21,
     "metadata": {},
     "output_type": "execute_result"
    }
   ],
   "source": [
    "output"
   ]
  }
 ],
 "metadata": {
  "kernelspec": {
   "display_name": "granite-workshop",
   "language": "python",
   "name": "python3"
  },
  "language_info": {
   "codemirror_mode": {
    "name": "ipython",
    "version": 3
   },
   "file_extension": ".py",
   "mimetype": "text/x-python",
   "name": "python",
   "nbconvert_exporter": "python",
   "pygments_lexer": "ipython3",
   "version": "3.11.8"
  }
 },
 "nbformat": 4,
 "nbformat_minor": 4
}
