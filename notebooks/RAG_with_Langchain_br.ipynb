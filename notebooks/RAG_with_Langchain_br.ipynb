{
 "cells": [
  {
   "attachments": {},
   "cell_type": "markdown",
   "metadata": {
    "pycharm": {
     "name": "#%% md\n"
    }
   },
   "source": [
    "# Retrieval Augmented Generation (RAG) with Langchain em Português!\n",
    "*Using IBM Granite Models*"
   ]
  },
  {
   "cell_type": "markdown",
   "metadata": {
    "collapsed": false,
    "jupyter": {
     "outputs_hidden": false
    },
    "pycharm": {
     "name": "#%% md\n"
    }
   },
   "source": [
    "## In this notebook\n",
    "This notebook contains instructions for performing Retrieval Augumented Generation (RAG). RAG is an architectural pattern that can be used to augment the performance of language models by recalling factual information from a knowledge base, and adding that information to the model query. The most common approach in RAG is to create dense vector representations of the knowledge base in order to retrieve text chunks that are semantically similar to a given user query.\n",
    "\n",
    "RAG use cases include:\n",
    "- Customer service: Answering questions about a product or service using facts from the product documentation.\n",
    "- Domain knowledge: Exploring a specialized domain (e.g., finance) using facts from papers or articles in the knowledge base.\n",
    "- News chat: Chatting about current events by calling up relevant recent news articles.\n",
    "\n",
    "In its simplest form, RAG requires 3 steps:\n",
    "\n",
    "- Initial setup:\n",
    "  - Index knowledge-base passages for efficient retrieval. In this recipe, we take embeddings of the passages and store them in a vector database.\n",
    "- Upon each user query:\n",
    "  - Retrieve relevant passages from the database. In this recipe, we use an embedding of the query to retrieve semantically similar passages.\n",
    "  - Generate a response by feeding retrieved passage into a large language model, along with the user query."
   ]
  },
  {
   "cell_type": "markdown",
   "metadata": {},
   "source": [
    "## Setting up the environment"
   ]
  },
  {
   "cell_type": "markdown",
   "metadata": {},
   "source": [
    "### Python version\n",
    "\n",
    "Ensure you are running Python 3.10 or 3.11."
   ]
  },
  {
   "cell_type": "code",
   "execution_count": 1,
   "metadata": {},
   "outputs": [],
   "source": [
    "import sys\n",
    "assert sys.version_info >= (3, 10) and sys.version_info < (3, 12), \"Use Python 3.10 or 3.11 to run this notebook.\""
   ]
  },
  {
   "cell_type": "markdown",
   "metadata": {},
   "source": [
    "### Install dependencies\n",
    "\n",
    "Granite Kitchen comes with a bundle of dependencies that are required for notebooks. See the list of packages in its [`setup.py`](https://github.com/ibm-granite-community/granite-kitchen/blob/main/setup.py). "
   ]
  },
  {
   "cell_type": "code",
   "execution_count": 2,
   "metadata": {},
   "outputs": [],
   "source": [
    "%%capture\n",
    "\n",
    "%pip install \"git+https://github.com/ibm-granite-community/granite-kitchen.git\" \"langchain-huggingface\" \"langchain-milvus\" \"wget\""
   ]
  },
  {
   "cell_type": "markdown",
   "metadata": {},
   "source": [
    "### Serving the Granite AI model"
   ]
  },
  {
   "cell_type": "markdown",
   "metadata": {},
   "source": [
    "\n",
    "This notebook requires IBM Granite models to be served by an AI model runtime so that the models can be invoked or called. This notebook can use a locally accessible [Ollama](https://github.com/ollama/ollama) server to serve the models, or the [Replicate](https://replicate.com) cloud service.\n",
    "\n",
    "During the pre-work, you may have either started a local Ollama server on your computer, or setup Replicate access and obtained an [API token](https://replicate.com/account/api-tokens)."
   ]
  },
  {
   "cell_type": "markdown",
   "metadata": {},
   "source": [
    "## Selecting System Components"
   ]
  },
  {
   "cell_type": "markdown",
   "metadata": {},
   "source": [
    "### Choose your Embeddings Model"
   ]
  },
  {
   "cell_type": "markdown",
   "metadata": {},
   "source": [
    "Specify the model to use for generating embedding vectors from text.\n",
    "\n",
    "To use a model from a provider other than Huggingface, replace this code cell with one from [this Embeddings Model recipe](https://github.com/ibm-granite-community/granite-kitchen/blob/main/recipes/Components/Langchain_Embeddings_Models.ipynb)."
   ]
  },
  {
   "cell_type": "code",
   "execution_count": 3,
   "metadata": {},
   "outputs": [
    {
     "name": "stderr",
     "output_type": "stream",
     "text": [
      "/Users/flaviajaninebeo/Documents/Virtualenvs/granite-workshop/lib/python3.11/site-packages/tqdm/auto.py:21: TqdmWarning: IProgress not found. Please update jupyter and ipywidgets. See https://ipywidgets.readthedocs.io/en/stable/user_install.html\n",
      "  from .autonotebook import tqdm as notebook_tqdm\n"
     ]
    }
   ],
   "source": [
    "from langchain_huggingface import HuggingFaceEmbeddings\n",
    "embeddings_model = HuggingFaceEmbeddings(model_name=\"ibm-granite/granite-embedding-278m-multilingual\")"
   ]
  },
  {
   "cell_type": "markdown",
   "metadata": {},
   "source": [
    "### Choose your Vector Database\n",
    "\n",
    "Specify the database to use for storing and retrieving embedding vectors.\n",
    "\n",
    "To connect to a vector database other than Milvus substitute this code cell with one from [this Vector Store recipe](https://github.com/ibm-granite-community/granite-kitchen/blob/main/recipes/Components/Langchain_Vector_Stores.ipynb)."
   ]
  },
  {
   "cell_type": "code",
   "execution_count": 4,
   "metadata": {},
   "outputs": [
    {
     "name": "stdout",
     "output_type": "stream",
     "text": [
      "The vector database will be saved to /var/folders/5x/cztshy892cbf92p2fdgqlxhc0000gn/T/milvus_br_owitv3ea.db\n"
     ]
    }
   ],
   "source": [
    "from langchain_milvus import Milvus\n",
    "import tempfile\n",
    "\n",
    "db_file = tempfile.NamedTemporaryFile(prefix=\"milvus_br_\", suffix=\".db\", delete=False).name\n",
    "print(f\"The vector database will be saved to {db_file}\")\n",
    "\n",
    "vector_db = Milvus(embedding_function=embeddings_model, connection_args={\"uri\": db_file}, auto_id=True)"
   ]
  },
  {
   "cell_type": "markdown",
   "metadata": {},
   "source": [
    "## Select your model"
   ]
  },
  {
   "cell_type": "markdown",
   "metadata": {},
   "source": [
    "\n",
    "Select a Granite model to use. Here we use a Langchain client to connect to the model. If there is a locally accessible Ollama server, we use an Ollama client to access the model. Otherwise, we use a Replicate client to access the model.\n",
    "\n",
    "When using Replicate, if the `REPLICATE_API_TOKEN` environment variable is not set, or a `REPLICATE_API_TOKEN` Colab secret is not set, then the notebook will ask for your [Replicate API token](https://replicate.com/account/api-tokens) in a dialog box."
   ]
  },
  {
   "cell_type": "code",
   "execution_count": 6,
   "metadata": {},
   "outputs": [],
   "source": [
    "import os\n",
    "import requests\n",
    "from langchain_ollama.llms import OllamaLLM\n",
    "from langchain_community.llms import Replicate\n",
    "from ibm_granite_community.notebook_utils import set_env_var\n",
    "\n",
    "try: # Look for a locally accessible Ollama server for the model\n",
    "    response = requests.get(os.getenv(\"OLLAMA_HOST\", \"http://127.0.0.1:11434\"))\n",
    "    model = OllamaLLM(model=\"granite3.2:8b\")\n",
    "except Exception: # Use Replicate for the model\n",
    "    set_env_var(\"REPLICATE_API_TOKEN\")\n",
    "    model = Replicate(model=\"ibm-granite/granite-3.0-8b-instruct\")\n"
   ]
  },
  {
   "cell_type": "code",
   "execution_count": 7,
   "metadata": {},
   "outputs": [
    {
     "data": {
      "text/plain": [
       "'Hello! How can I assist you today?'"
      ]
     },
     "execution_count": 7,
     "metadata": {},
     "output_type": "execute_result"
    }
   ],
   "source": [
    "model.invoke(input=\"hello\")"
   ]
  },
  {
   "cell_type": "markdown",
   "metadata": {
    "collapsed": false,
    "jupyter": {
     "outputs_hidden": false
    },
    "pycharm": {
     "name": "#%% md\n"
    }
   },
   "source": [
    "## Building the Vector Database\n",
    "\n",
    "In this example, we take the State of the Union speech text, split it into chunks, derive embedding vectors using the embedding model, and load it into the vector database for querying."
   ]
  },
  {
   "cell_type": "markdown",
   "metadata": {},
   "source": [
    "### Download the document\n",
    "\n",
    "Here we use President Biden's State of the Union address from March 1, 2022."
   ]
  },
  {
   "cell_type": "code",
   "execution_count": 9,
   "metadata": {
    "jupyter": {
     "outputs_hidden": false
    },
    "pycharm": {
     "name": "#%%\n"
    }
   },
   "outputs": [],
   "source": [
    "import wget\n",
    "\n",
    "filename = 'crepioca.pdf'\n",
    "url = 'https://light4you.com.br/cardapio/itens-individuais1/salgados/crepioca-de-frango'\n",
    "\n",
    "if not os.path.isfile(filename):\n",
    "  wget.download(url, out=filename)"
   ]
  },
  {
   "cell_type": "markdown",
   "metadata": {},
   "source": [
    "### Split the document into chunks\n",
    "\n",
    "Split the document into text segments that can fit into the model's context window."
   ]
  },
  {
   "cell_type": "code",
   "execution_count": 7,
   "metadata": {
    "jupyter": {
     "outputs_hidden": false
    },
    "pycharm": {
     "name": "#%%\n"
    }
   },
   "outputs": [
    {
     "name": "stderr",
     "output_type": "stream",
     "text": [
      "WARNING: All log messages before absl::InitializeLog() is called are written to STDERR\n",
      "I0000 00:00:1744049098.151039 10380393 fork_posix.cc:77] Other threads are currently calling into gRPC, skipping fork() handlers\n"
     ]
    }
   ],
   "source": [
    "%%capture\n",
    "%pip install --upgrade unstructured"
   ]
  },
  {
   "cell_type": "code",
   "execution_count": 8,
   "metadata": {},
   "outputs": [],
   "source": [
    "from langchain.document_loaders import UnstructuredURLLoader\n",
    "from langchain.text_splitter import CharacterTextSplitter\n",
    "\n",
    "loader = UnstructuredURLLoader([ \"https://light4you.com.br/cardapio/itens-individuais1/salgados/crepioca-de-frango\" ])\n",
    "documents = loader.load()\n",
    "text_splitter = CharacterTextSplitter(chunk_size=300, chunk_overlap=50)\n",
    "texts = text_splitter.split_documents(documents)"
   ]
  },
  {
   "cell_type": "markdown",
   "metadata": {
    "collapsed": false,
    "jupyter": {
     "outputs_hidden": false
    },
    "pycharm": {
     "name": "#%% md\n"
    }
   },
   "source": [
    "### Populate the vector database\n",
    "\n",
    "NOTE: Population of the vector database may take over a minute depending on your embedding model and service."
   ]
  },
  {
   "cell_type": "code",
   "execution_count": 9,
   "metadata": {},
   "outputs": [
    {
     "data": {
      "text/plain": [
       "[457192008700133376,\n",
       " 457192008700133377,\n",
       " 457192008700133378,\n",
       " 457192008700133379,\n",
       " 457192008700133380,\n",
       " 457192008700133381,\n",
       " 457192008700133382,\n",
       " 457192008700133383,\n",
       " 457192008700133384,\n",
       " 457192008700133385,\n",
       " 457192008700133386,\n",
       " 457192008700133387,\n",
       " 457192008700133388]"
      ]
     },
     "execution_count": 9,
     "metadata": {},
     "output_type": "execute_result"
    }
   ],
   "source": [
    "vector_db.add_documents(texts)"
   ]
  },
  {
   "cell_type": "markdown",
   "metadata": {},
   "source": [
    "## Querying the Vector Database"
   ]
  },
  {
   "cell_type": "markdown",
   "metadata": {},
   "source": [
    "### Conduct a similarity search\n",
    "\n",
    "Search the database for similar documents by proximity of the embedded vector in vector space."
   ]
  },
  {
   "cell_type": "code",
   "execution_count": 10,
   "metadata": {},
   "outputs": [
    {
     "name": "stdout",
     "output_type": "stream",
     "text": [
      "Voltar\n",
      "\n",
      "Crepioca_Frango\n",
      "\n",
      "Crepioca de Frango com Requeijão Light\n",
      "\n",
      "Cód. Barras: 0123000\n",
      "\n",
      "138 calorias\n",
      "\n",
      "Uma opção deliciosa para você comer no meio da tarde ou também serve de pré ou pós treino ou mesmo de jantar com uma salada!\n",
      "\n",
      "R$ 14,50\n",
      "\n",
      "Comprar\n",
      "\n",
      "Aguarde\n",
      "\n",
      "Calcular frete\n",
      "\n",
      "Calcular\n",
      "\n",
      "aquarde\n"
     ]
    }
   ],
   "source": [
    "query = \"O que é crepioca?\"\n",
    "docs = vector_db.similarity_search(query)\n",
    "print(docs[0].page_content)"
   ]
  },
  {
   "cell_type": "markdown",
   "metadata": {},
   "source": [
    "## Answering Questions"
   ]
  },
  {
   "cell_type": "markdown",
   "metadata": {},
   "source": [
    "### Automate the RAG pipeline"
   ]
  },
  {
   "cell_type": "markdown",
   "metadata": {},
   "source": [
    "Build a RAG chain with the model and the document retriever. See the [Granite Prompting Guide](https://www.ibm.com/granite/docs/models/granite/#prompt-anatomy) for information on the prompt template."
   ]
  },
  {
   "cell_type": "code",
   "execution_count": 11,
   "metadata": {},
   "outputs": [],
   "source": [
    "from langchain.prompts import PromptTemplate\n",
    "from langchain.chains import create_retrieval_chain\n",
    "from langchain.chains.combine_documents import create_stuff_documents_chain\n",
    "\n",
    "# Create a prompt template for question-answering with the retrieved context.\n",
    "prompt_template = \"\"\"\\\n",
    "<|start_of_role|>user<|end_of_role|>Use os seguintes pedaços de contexto para responder à pergunta no final.\n",
    "Se você não sabe a resposta, apenas diga que não sabe, não tente inventar uma resposta. \n",
    "Responda sempre em Português.\n",
    "\n",
    "{context}\n",
    "\n",
    "Pergunta: {input}<|end_of_text|>\n",
    "<|start_of_role|>assistant<|end_of_role|>\"\"\"\n",
    "\n",
    "# Assemble the retrieval-augmented generation chain.\n",
    "qa_chain_prompt = PromptTemplate.from_template(prompt_template)\n",
    "combine_docs_chain = create_stuff_documents_chain(model, qa_chain_prompt)\n",
    "rag_chain = create_retrieval_chain(vector_db.as_retriever(), combine_docs_chain)"
   ]
  },
  {
   "cell_type": "markdown",
   "metadata": {
    "collapsed": false,
    "jupyter": {
     "outputs_hidden": false
    },
    "pycharm": {
     "name": "#%% md\n"
    }
   },
   "source": [
    "### Generate a retrieval-augmented response to a question"
   ]
  },
  {
   "cell_type": "markdown",
   "metadata": {
    "collapsed": false,
    "jupyter": {
     "outputs_hidden": false
    },
    "pycharm": {
     "name": "#%% md\n"
    }
   },
   "source": [
    "Use the RAG chain to process the query. "
   ]
  },
  {
   "cell_type": "code",
   "execution_count": 12,
   "metadata": {
    "jupyter": {
     "outputs_hidden": false
    },
    "pycharm": {
     "name": "#%%\n"
    }
   },
   "outputs": [
    {
     "name": "stdout",
     "output_type": "stream",
     "text": [
      "Para fazer uma crepioca, você precisa de alguns ingredientes principais: farinha de trigo, ovos, leite, sal e pimenta. Você também precisa de um refratário ou um prato fritura adequado para o air fryer.\n",
      "\n",
      "Primeiro, pré-aqueça o air fryer para uma temperatura de 350°F (175°C). Em seguida, preparar a massa da crepioca. Em uma tigela grande, bata os ovos e adiciona o leite, sal e pimenta. Méxua até ficar suave e bem combinado.\n",
      "\n",
      "Em outra tigela, misture a farinha de trigo com um pouco de água para formar uma massa muito macia. Adicione a massa macia à mistura dos ovos e leite, mescando até obter uma massa homogênea.\n",
      "\n",
      "Agora, é tempo para cozinhar a crepioca. Despeje a massa na panela do air fryer e coza por cerca de 10 minutos ou até que fique dourada. Deixe esfriar um pouco a crepioca antes de servir com sua preferida requeijão light ou salada.\n",
      "\n",
      "Bom apetite!\n"
     ]
    }
   ],
   "source": [
    "output = rag_chain.invoke({\"input\": \"Como fazer uma crepioca?\"})\n",
    "\n",
    "print(output['answer'])"
   ]
  },
  {
   "cell_type": "code",
   "execution_count": 13,
   "metadata": {},
   "outputs": [
    {
     "data": {
      "text/plain": [
       "'Desculpe, mas não tenho informações sobre como fazer uma crepioca. Crepiocas são alimentos tradicionais de Portugal, mas a forma como eles são feitos pode variar. Se você puder fornecer mais detalhes ou fontes, posso tentar ajudar melhor.'"
      ]
     },
     "execution_count": 13,
     "metadata": {},
     "output_type": "execute_result"
    }
   ],
   "source": [
    "model.invoke(qa_chain_prompt.format(context=None, input=\"Como fazer uma crepioca?\"))"
   ]
  },
  {
   "cell_type": "code",
   "execution_count": 14,
   "metadata": {},
   "outputs": [
    {
     "name": "stdout",
     "output_type": "stream",
     "text": [
      "RAG: Para fazer uma crepioca, você precisa ter os seguintes ingredientes:\n",
      "\n",
      "* Farinha de trigo\n",
      "* Azeite de oliva\n",
      "* Sal\n",
      "* Pepa\n",
      "* Ovo\n",
      "* Queijo parmesano (opcional)\n",
      "\n",
      "Aqui está um recipoe simples para fazer uma crepioca:\n",
      "\n",
      "1. Preparar a massa: Em uma tigela, mesclar a farinha de trigo com o azeite de oliva, a sal e a pepa. Adicione o ovo e méite até obter uma massa homogênea. Se preferir, adicione o queijo parmesano para dar um sabor mais saboroso.\n",
      "2. Formar as crepiocas: Preparar uma superfície ligeiramente enchada com farinha de trigo. Tire uma pequena quantidade da massa e esfregue a mão para formar uma bola. Coloque-a em uma planta de cozinha lavada e repita até formar todas as crepiocas necessárias.\n",
      "3. Aquecer as crepiocas: Em um panela grande, coloque alguns centímetros de azeite de oliva e aqueça ao alto. Quando estiver quente, coloque uma ou duas crepiocas na panela e aqueça por cerca de 2-3 minutos, ou até que estejam douradas. Use um colher para retirá-las da panela e colocá-las em um prato para se destapar. Repita até que todas as crepiocas estejam aquecidas.\n",
      "4. Servir: As crepiocas são prontas para servir. Você pode servir elas com sua favorite sopa, salada ou como uma fala.\n",
      "\n",
      "Espero que esta receita lhe ajude a fazer uma deliciosa crepioca!\n",
      "Puro: Infelizmente, eu não tenho informações sobre como fazer uma crepioca. Meu conhecimento é limitado até 2021 e não inclui informações sobre receitas modernas ou específicas de alimentos. Eu sou um modelo de linguagem desenvolvido para responder perguntas gerais e fornecer informações baseadas em dados até 2021.\n",
      "RAG: Para fazer uma crepioca, você precisa seguir os seguintes passos:\n",
      "\n",
      "1. Preparar o frango: Corte o frango em pequenos pedaços e coloque-os em uma frigideira com um pouco de óleo. Tempere com sal e pimenta a gosto e frite até que esteja macio.\n",
      "2. Preparar a massa: Em um tazão, mexa 1 xícara de farinha de trigo e 1/2 xícara de açúcar para uma massa escura. Adicione 1/2 xícara de manteiga fresca ralada e misture bem.\n",
      "3. Formar a crepioca: Quente uma panela de aeroforno e coloque o frango frito em ela. Coloque a massa na parte inferior da crepioca e enrole-a sobre o frango. Comprima gentilmente para evitar que a massa se eleva durante o cozimento.\n",
      "4. Cozinhar: Deixe o frango e a crepioca fritar em aeroforno por cerca de 20 minutos, ou até que a massa esteja dourada e o frango esteja caldo.\n",
      "5. Servir: Remove a crepioca do aeroforno e sirva hot. Você pode servir com uma salada ou como um prato principal.\n",
      "\n",
      "Enjoy your meal!\n",
      "Puro: Desculpe, mas não tenho informações sobre como fazer uma crepioca. Crepiocas são uma tradicional culinária brasileira, geralmente feitas com farinha de mandioca e carne de porco, mas não tenho um guia específico para ela. Poderia você me fornecer mais detalhes ou uma receita específica para que eu possa ajudar melhor?\n",
      "RAG: Acrescer o produto em água e deixá-lo aquecer por cerca de 10 minutos é um método diferente para cozinhar crepiocas que pode trazer mais sabor. Aqui está uma receita simples para fazer uma crepioca com requeijão leve:\n",
      "\n",
      "Ingredientes:\n",
      "\n",
      "* 1 crepioca de frango\n",
      "* 1 colher de sopa de requeijão leve, cortado em pedaços pequenos\n",
      "* Sal e pimenta a gosto\n",
      "* Azeite de oliva\n",
      "\n",
      "Instruções:\n",
      "\n",
      "1. Preparar a crepioca: Remova a embalagem da crepioca e ússe-a para remover os resíduos excessivos. Raspe o exterior com uma escova para que seja mais fácil de comer.\n",
      "2. Adicionar o requeijão: Coloque os pedaços de requeijão em cima da crepioca e distribua-os uniformemente.\n",
      "3. Selecione as ingredientes adicionais: Decida se você deseja adicionar outras ingredientes, como cebolas ou tomates picados, para acrescer mais sabor à sua crepioca.\n",
      "4. Cozinhar a crepioca: Aplique uma pequena quantidade de azeite de oliva na panela da air fryer e coloque a crepioca em cima. Aqueça a panela para 180°C (350ºF) por cerca de 9 minutos, ou até que a crepioca esteja dourada e o requeijão esteja côco.\n",
      "5. Saboreie: Coloque a crepioca em um prato e saboreie com algumas farinhas ou uma salada. Enjoy!\n",
      "Puro: Desculpe, mas não tenho informações sobre como fazer uma crepioca. Eu posso fornecer informações gerais sobre pastelaria ou receitas de bolo, mas não tenho conhecimento específico sobre a técnica de fazer uma crepioca.\n",
      "RAG: Para fazer uma crepioca com frango e requeijão light, você precisa de alguns ingredientes e utensílios. Aqui está um possível receti:\n",
      "\n",
      "Ingredientes:\n",
      "\n",
      "* 1 kg de frango fresco\n",
      "* 1 xícara de leite\n",
      "* 1 xícara de farinha de trigo\n",
      "* 1/2 xícara de parmesão ralado\n",
      "* 1/2 xícara de manteiga branca\n",
      "* Sal e pimenta a gosto\n",
      "* Azeite de oliva para fritar\n",
      "\n",
      "Utensílios:\n",
      "\n",
      "* Mola de cozinha\n",
      "* Uma panela grande\n",
      "* Uma frigideira de air fryer\n",
      "* Um prato para servir\n",
      "\n",
      "Instruções:\n",
      "\n",
      "1. Peel e cortar o frango em cubos grandes.\n",
      "2. Em uma tigela, misture o leite, a farinha, o parmesão, a manteiga e os sal e pimenta até obter uma massa homogênea.\n",
      "3. Adicione o frango à massa e méi muito até que a massa se enrolasse ao frango.\n",
      "4. Coloque a massa na panela com água de cozinha e frite por cerca de 20 minutos, ou até que esteja dourada.\n",
      "5. Deixe esfriar a crepioca em um prato encerado e sirva com sua requeijão light preferido.\n",
      "\n",
      "Espero que essa receita ajude!\n",
      "Puro: Desculpe, mas não tenho informações sobre como fazer uma crepioca. Eu posso ajudar com outras perguntas relacionadas à gastronomia ou receitas.\n",
      "RAG: Para fazer uma crepioca, primeiro você precisa ter os ingredientes necessários: o frango, o requejão light e os outros ingredientes listados no título da receita. Em seguida, siga as instruções fornecidas na receita para preparar a crepioca. Isso inclui abrir a embalagem, colocar todos os produtos congelados na air fryer, ligar o fogão e deixá-lo agir por cerca de 9 minutos. Em seguida, retire a(s) embalagem(ns) da panela com um pegador para não se queimar e coloque a comida no prato com cuidado para não se queimar. O tempo pode variar de acordo com o fogão, panela, quantidade de água e comida. Bom apetite!\n",
      "Puro: Não tenho informações sobre como fazer uma crepioca, pois não é um sabor ou receita que seja conhecido ou documentado. No entanto, posso lhe sugerir alguns ingredientes e técnicas gerais que podem ser usadas para criar um delicioso prato.\n",
      "\n",
      "Para uma crepioca, você pode usar ingredients como farinha, leite, ovos, açúcar, manteiga, chocolate ou café, dependendo do estilo e preferência. Você também pode adicionar ingredientes como nozes, frutas secas ou chocolate na massa.\n",
      "\n",
      "Para fazer a crepioca, você precisa misturar os ingredients até obter uma massa homogênea. Em seguida, você pode decorar a massa com o que deseja e cozinhar ela de acordo com as instruções do recipiente.\n",
      "\n",
      "Se você puder fornecer mais informações sobre o ingrediente ou técnica específico que você gostaria de usar, posso lhe dar uma resposta mais detalhada.\n",
      "RAG: Para fazer uma crepioca com frango e requeijão light, primeiro você precisa ter os seguintes ingredientes:\n",
      "\n",
      "* Frango\n",
      "* Requeijão light\n",
      "* Oregano\n",
      "* Sal\n",
      "* Pimenta\n",
      "* Azeite de oliva\n",
      "* Salsa de tomate (opcional)\n",
      "\n",
      "Primeiro, prepare o frango. Corte em pequenos troços e cozinhe em uma panela com um pouco de azeite de oliva até que esteja bem cru. Quando estiver couro, adicione o oregano, a sal e a pimenta para dar sabor.\n",
      "\n",
      "Enquanto o frango se cozinha, prepare a crepioca. Em um tazão grande, mexa o requeijão light com uma pequena quantidade de leite até que esteja bem molhado. Adicione mais leite até que a crepioca tenha a consistência desejada.\n",
      "\n",
      "Uma vez que o frango estiver couro, adicione-o à crepioca e mexa até que esteja bem combinado. Se preferir, pode adicionar uma salsa de tomate para dar mais sabor.\n",
      "\n",
      "Deixe a crepioca refrigerar por alguns minutos antes de servir. Saboreie com um café ou um vinho tinto!\n",
      "Puro: Desculpe, mas não tenho conhecimento sobre como fazer uma crepioca. Eu posso fornecer informações gerais sobre receitas ou técnicas culinárias, mas não tenho acesso a informações específicas sobre esses tipos de alimentos.\n",
      "RAG: Para fazer uma crepioca, você precisa seguir estas etapas gerais:\n",
      "\n",
      "Ingredientes:\n",
      "\n",
      "* 2 xícaras de farinha de trigo\n",
      "* 1/2 xícara de leite\n",
      "* 1/4 xícara de manteiga\n",
      "* 1/4 xícara de açúcar\n",
      "* 1 colher de sopa de fermento nove\n",
      "* 1 colher de sopa de sal\n",
      "* 1/2 colher de chá de canela\n",
      "* 1/2 colher de chá de pimenta preta em pó\n",
      "* 1/4 colher de chá de pimenta do reino em pó\n",
      "* 1/4 colher de chá de pouco dourado em pó (opcional)\n",
      "\n",
      "Instruções:\n",
      "\n",
      "1. Em uma tigela grande, misture a farinha, o leite, a manteiga, o açúcar, o fermento, a sal, a canela, a pimenta preta e a pimenta do reino.\n",
      "2. Adicione o pouco dourado, se usar.\n",
      "3. Misture até obter uma massa elástica e macia. Se a massa ficar muito fria ou macia, adicione mais leite, 1/4 xícara por vez, até obter a textura desejada.\n",
      "4. Cubra a tigela com um papel hobetón e deixe reposição em um ambiente quente por pelo menos 1 hora ou até ficar levemente fervendo.\n",
      "5. Em uma forma para horno, espalhe a massa e forme um bolinho redondo ou quadrúngulo, dependendo do tipo de crepioca que você quiser fazer.\n",
      "6. Coloque o horno precalentado em 200°C (390°F) e horneie por cerca de 45-50 minutos, ou até que a crepioca esteja dourada e cozida através.\n",
      "7. Deixe esfriar antes de servir.\n",
      "\n",
      "Espero que essa resposta ajude! Se você tiver mais perguntas, por favor, não hesite em fazer.\n",
      "Puro: Desculpe, mas não tenho informações sobre como fazer uma crepioca. Eu sou um modelo de linguagem e minhas habilidades são limitadas ao processamento de texto. Para obter uma receita de crepioca, você pode procurar em sites de receitas ou perguntar a alguém que já tenha feito uma vez.\n",
      "RAG: Para fazer uma crepioca, primeiro você precisa ter os ingredientes necessários: Frango congelado, crepioca, requeijão light e outros ingredientes especificados na descrição do produto. Depois, siga as instruções abaixo:\n",
      "\n",
      "1. Abra a embalagem da crepioca e coloque todos os produtos que desejar consumir congelados na air fryer.\n",
      "2. Ligue e deixe agir por cerca de 9 minutos.\n",
      "3. Coloque no prato com cuidado para não se queimar.\n",
      "4. Retire a(s) embalagem(ns) do panela com um pegador para não se queimar.\n",
      "5. Abra o saquinho com cuidado para não se queimar.\n",
      "6. Coloque a comida no prato com cuidado para não se queimar.\n",
      "\n",
      "O tempo pode variar de acordo com o fogão, panela, quantidade de água e comida.\n",
      "\n",
      "Se você preferir, também pode fazer uma crepioca na bandeja de micro-ondas. Siga as instruções abaixo:\n",
      "\n",
      "1. Prehele a bandeja de micro-ondas até que a crepioca esteja quente.\n",
      "2. Abra a embalagem da crepioca e coloque todos os produtos que desejar consumir na bandeja de micro-ondas.\n",
      "3. Deixe agir por cerca de 10 minutos.\n",
      "4. Coloque no prato com cuidado para não se queimar.\n",
      "5. Abra o saquinho com cuidado para não se queimar.\n",
      "6. Coloque a comida no prato com cuidado para não se queimar.\n",
      "\n",
      "Espero que essa informação ajude você a fazer uma deliciosa crepioca!\n",
      "Puro: Não tenho informações sobre como fazer uma crepioca, pois não é um alimento ou uma receita que tenha sido programado para processar. No entanto, posso fornecer informações gerais sobre como preparar alimentos se necessário.\n",
      "RAG: Para fazer uma crepioca, você precisa seguir essas etapas básicas:\n",
      "\n",
      "1. Preparar os ingredientes: A crepioca de frango com requeijão light necessita de 1 joelho de frango, 1 colher de sopa de manteiga, 1 colher de sopa de farinha de trigo, 1/2 colher de sopa de parmesano ralado, sal e pimenta a gosto.\n",
      "\n",
      "2. Bata o frango: Bata o joelho de frango até que fique macio.\n",
      "\n",
      "3. Adicione os outros ingredientes: Adicione a manteiga, a farinha de trigo, o parmesano ralado, sal e pimenta ao frango. Misture bem até obter uma massa homogênea.\n",
      "\n",
      "4. Forma a crepioca: Desspe e forma a massa em um prato de forma de uma bola ou forminha conforme a receita desejada.\n",
      "\n",
      "5. Cozinhe a crepioca: Cubra o prato com papel hornéssico e coza a crepioca na air fryer por cerca de 9 minutos, ou até que esteja dourada.\n",
      "\n",
      "6. Despeje e saboreie: Despeje a crepioca em um prato e saboreie com sua favorita bebida!\n",
      "\n",
      "Note-se que as quantidades podem variar de acordo com a receita específica e o tamanho do frango utilizado.\n",
      "Puro: Lamento, mas não tenho informações sobre como fazer uma crepioca. Crepiocas são um tipo de doces tradicionais europeus, que podem ser feitos com diferentes receitas e ingredientes. No entanto, não tenho acesso a um banco de dados ou recursos especializados para fornecer informações detalhadas sobre receitas culinárias específicas.\n",
      "\n",
      "Você pode procurar por receitas de crepioca em sites de recepês de alimentos online ou em livros de recepês tradicionais europeias. Algumas receitas podem incluir farinha, manteiga, açúcar, ovos e fermento, mas os detalhes podem variar dependendo da fonte.\n",
      "\n",
      "Espero que isso ajude! Se você tiver mais perguntas, estarei aqui para ajudar.\n",
      "RAG: Para fazer uma crepioca, primeiro você precisa ter os ingredientes necessários: cereja madura, farinha de trigo e açúcar. Em uma tigela, mezcle a cereja picada com o açúcar e o farinha de trigo até obter uma massa homogênea. Uma vez que a massa está pronta, coloque-a em um recipiente aberto e deixe-a reposicionar no frigorífio por cerca de 30 minutos para permitir que ela se endureça. Depois disso, você pode saciar sua conveniência com a crepioca.\n",
      "\n",
      "No entanto, no texto fornecido não há informações sobre o método de cozimento da crepioca ou como usar um air fryer ou uma panela para aquecer ela. Portanto, não é possível fornecer uma resposta detalhada à sua pergunta com base no fornecido contexto.\n",
      "Puro: Desculpe, mas não tenho informações sobre como fazer uma crepioca. Eu sou um modelo de linguagem e minha programação não inclui instruções para cozinhar. Poderia me fornecer mais informações ou dar creditos à fonte da pergunta?\n"
     ]
    }
   ],
   "source": [
    "for i in range(10):\n",
    "    print(\"RAG:\", rag_chain.invoke({\"input\": \"Como fazer uma crepioca?\"})['answer']) \n",
    "    print(\"Puro:\", model.invoke(qa_chain_prompt.format(context=None, input=\"Como fazer uma crepioca?\")))"
   ]
  },
  {
   "cell_type": "code",
   "execution_count": 16,
   "metadata": {},
   "outputs": [
    {
     "data": {
      "text/plain": [
       "{'input': 'Como fazer uma crepioca?',\n",
       " 'context': [Document(metadata={'pk': 457192008700133376, 'source': 'https://light4you.com.br/cardapio/itens-individuais1/salgados/crepioca-de-frango'}, page_content='Voltar\\n\\nCrepioca_Frango\\n\\nCrepioca de Frango com Requeijão Light\\n\\nCód. Barras: 0123000\\n\\n138 calorias\\n\\nUma opção deliciosa para você comer no meio da tarde ou também serve de pré ou pós treino ou mesmo de jantar com uma salada!\\n\\nR$ 14,50\\n\\nComprar\\n\\nAguarde\\n\\nCalcular frete\\n\\nCalcular\\n\\naquarde'),\n",
       "  Document(metadata={'pk': 457192008700133385, 'source': 'https://light4you.com.br/cardapio/itens-individuais1/salgados/crepioca-de-frango'}, page_content='6. Bom apetite :)\\n\\nAQUECIMENTO EM AIR FRYER\\n\\n1. Abre a embalagem e coloque todos os produtos que desejar consumir congelados na air fryer.\\n\\n2. Ligue e deixe agir por cerca de 9 minutos.\\n\\n3. Coloque no prato com cuidado para não se queimar.'),\n",
       "  Document(metadata={'pk': 457192008700133382, 'source': 'https://light4you.com.br/cardapio/itens-individuais1/salgados/crepioca-de-frango'}, page_content='3. Retire a(s) embalagem(ns) da panela com um pegador para não se queimar.\\n\\n4. Abra o saquinho com cuidado para não se queimar.\\n\\n5. Coloque a comida no prato com cuidado para não se queimar.\\n\\nO tempo pode variar de acordo com o fogão, panela, quantidade de água e comida.\\n\\n6. Bom apetite :)'),\n",
       "  Document(metadata={'pk': 457192008700133381, 'source': 'https://light4you.com.br/cardapio/itens-individuais1/salgados/crepioca-de-frango'}, page_content='4. Bom apetite :)\\n\\nBANHO MARIA\\n\\nESTE MODO DE AQUECIMENTO DEIXA A COMIDA MAIS SABOROSA\\n\\n1. Coloque água em uma panela, suficiente para cobrir o produto e leve ao fogo.\\n\\n2. Quando atingir fervura, coloque a embalagem lacrada na panela por aproximadamente 10 minutos.')],\n",
       " 'answer': 'Para fazer uma crepioca, você precisa seguir os seguintes passos:\\n\\n1. Abra a embalagem e coloque todos os produtos que desejar consumir congelados na air fryer.\\n2. Ligue e deixe agir por cerca de 9 minutos.\\n3. Coloque no prato com cuidado para não se queimar.\\n4. Retire a(s) embalagem(ns) da panela com um pegador para não se queimar.\\n5. Abra o saquinho com cuidado para não se queimar.\\n6. Coloque a comida no prato com cuidado para não se queimar.\\n\\nO tempo pode variar de acordo com o fogão, panela, quantidade de água e comida.\\n\\nOutra opção é fazer a crepioca no banho Maria, que envolve colocar água em uma panela, suficiente para cobrir o produto e leve ao fogo. Quando atingir fervura, coloque a embalagem lacrada na panela por aproximadamente 10 minutos.\\n\\nEspero que isso ajude! Se você tiver mais dúvidas, não hesite em perguntar.'}"
      ]
     },
     "execution_count": 16,
     "metadata": {},
     "output_type": "execute_result"
    }
   ],
   "source": [
    "rag_chain.invoke({\"input\": \"Como fazer uma crepioca?\"})"
   ]
  }
 ],
 "metadata": {
  "kernelspec": {
   "display_name": "granite-workshop",
   "language": "python",
   "name": "python3"
  },
  "language_info": {
   "codemirror_mode": {
    "name": "ipython",
    "version": 3
   },
   "file_extension": ".py",
   "mimetype": "text/x-python",
   "name": "python",
   "nbconvert_exporter": "python",
   "pygments_lexer": "ipython3",
   "version": "3.11.8"
  }
 },
 "nbformat": 4,
 "nbformat_minor": 4
}
