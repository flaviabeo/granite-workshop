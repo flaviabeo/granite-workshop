{
 "cells": [
  {
   "cell_type": "markdown",
   "metadata": {
    "id": "Q6rko_ANX0EC"
   },
   "source": [
    "# Document Summarization"
   ]
  },
  {
   "cell_type": "markdown",
   "metadata": {},
   "source": [
    "\n",
    "This notebook demonstrates an application of long document summarization techniques to a work of literature using Granite."
   ]
  },
  {
   "cell_type": "markdown",
   "metadata": {},
   "source": [
    "### Python version"
   ]
  },
  {
   "cell_type": "markdown",
   "metadata": {},
   "source": [
    "Ensure you are running python 3.10, 3.11, or 3.12 in a freshly-created virtual environment."
   ]
  },
  {
   "cell_type": "code",
   "execution_count": 27,
   "metadata": {},
   "outputs": [],
   "source": [
    "import sys\n",
    "assert sys.version_info >= (3, 10) and sys.version_info < (3, 13), \"Use Python 3.10, 3.11, or 3.12 to run this notebook.\""
   ]
  },
  {
   "cell_type": "markdown",
   "metadata": {
    "id": "IwS1CzAbaFzq"
   },
   "source": [
    "## Install Dependencies"
   ]
  },
  {
   "cell_type": "markdown",
   "metadata": {},
   "source": [
    "\n",
    "Granite utils provides some helpful functions for recipes."
   ]
  },
  {
   "cell_type": "code",
   "execution_count": 28,
   "metadata": {
    "id": "2zUHQD71qgqf"
   },
   "outputs": [
    {
     "name": "stderr",
     "output_type": "stream",
     "text": [
      "huggingface/tokenizers: The current process just got forked, after parallelism has already been used. Disabling parallelism to avoid deadlocks...\n",
      "To disable this warning, you can either:\n",
      "\t- Avoid using `tokenizers` before the fork if possible\n",
      "\t- Explicitly set the environment variable TOKENIZERS_PARALLELISM=(true | false)\n"
     ]
    },
    {
     "name": "stdout",
     "output_type": "stream",
     "text": [
      "Collecting git+https://github.com/ibm-granite-community/utils\n",
      "  Cloning https://github.com/ibm-granite-community/utils to /private/var/folders/5x/cztshy892cbf92p2fdgqlxhc0000gn/T/pip-req-build-2o9a861n\n",
      "  Running command git clone --filter=blob:none --quiet https://github.com/ibm-granite-community/utils /private/var/folders/5x/cztshy892cbf92p2fdgqlxhc0000gn/T/pip-req-build-2o9a861n\n",
      "  Resolved https://github.com/ibm-granite-community/utils to commit 3f2ec81e4d9fabf9e1cb7fae30c2104f07111549\n",
      "  Installing build dependencies ... \u001b[?25ldone\n",
      "\u001b[?25h  Getting requirements to build wheel ... \u001b[?25ldone\n",
      "\u001b[?25h  Preparing metadata (pyproject.toml) ... \u001b[?25ldone\n",
      "\u001b[?25hRequirement already satisfied: langchain_community in /Users/flaviajaninebeo/Documents/GitHub/granite-workshop/.venv/lib/python3.11/site-packages (0.3.21)\n",
      "Requirement already satisfied: transformers in /Users/flaviajaninebeo/Documents/GitHub/granite-workshop/.venv/lib/python3.11/site-packages (4.51.0)\n",
      "Requirement already satisfied: langchain_huggingface in /Users/flaviajaninebeo/Documents/GitHub/granite-workshop/.venv/lib/python3.11/site-packages (0.1.2)\n",
      "Requirement already satisfied: langchain_ollama in /Users/flaviajaninebeo/Documents/GitHub/granite-workshop/.venv/lib/python3.11/site-packages (0.3.0)\n",
      "Requirement already satisfied: replicate in /Users/flaviajaninebeo/Documents/GitHub/granite-workshop/.venv/lib/python3.11/site-packages (1.0.4)\n",
      "Requirement already satisfied: docling in /Users/flaviajaninebeo/Documents/GitHub/granite-workshop/.venv/lib/python3.11/site-packages (2.28.4)\n",
      "Requirement already satisfied: python-dotenv in /Users/flaviajaninebeo/Documents/GitHub/granite-workshop/.venv/lib/python3.11/site-packages (from ibm-granite-community-utils==0.1.dev51) (1.1.0)\n",
      "Requirement already satisfied: langchain-core<1.0.0,>=0.3.51 in /Users/flaviajaninebeo/Documents/GitHub/granite-workshop/.venv/lib/python3.11/site-packages (from langchain_community) (0.3.51)\n",
      "Requirement already satisfied: langchain<1.0.0,>=0.3.23 in /Users/flaviajaninebeo/Documents/GitHub/granite-workshop/.venv/lib/python3.11/site-packages (from langchain_community) (0.3.23)\n",
      "Requirement already satisfied: SQLAlchemy<3,>=1.4 in /Users/flaviajaninebeo/Documents/GitHub/granite-workshop/.venv/lib/python3.11/site-packages (from langchain_community) (2.0.40)\n",
      "Requirement already satisfied: requests<3,>=2 in /Users/flaviajaninebeo/Documents/GitHub/granite-workshop/.venv/lib/python3.11/site-packages (from langchain_community) (2.32.3)\n",
      "Requirement already satisfied: PyYAML>=5.3 in /Users/flaviajaninebeo/Documents/GitHub/granite-workshop/.venv/lib/python3.11/site-packages (from langchain_community) (6.0.2)\n",
      "Requirement already satisfied: aiohttp<4.0.0,>=3.8.3 in /Users/flaviajaninebeo/Documents/GitHub/granite-workshop/.venv/lib/python3.11/site-packages (from langchain_community) (3.11.16)\n",
      "Requirement already satisfied: tenacity!=8.4.0,<10,>=8.1.0 in /Users/flaviajaninebeo/Documents/GitHub/granite-workshop/.venv/lib/python3.11/site-packages (from langchain_community) (9.1.2)\n",
      "Requirement already satisfied: dataclasses-json<0.7,>=0.5.7 in /Users/flaviajaninebeo/Documents/GitHub/granite-workshop/.venv/lib/python3.11/site-packages (from langchain_community) (0.6.7)\n",
      "Requirement already satisfied: pydantic-settings<3.0.0,>=2.4.0 in /Users/flaviajaninebeo/Documents/GitHub/granite-workshop/.venv/lib/python3.11/site-packages (from langchain_community) (2.8.1)\n",
      "Requirement already satisfied: langsmith<0.4,>=0.1.125 in /Users/flaviajaninebeo/Documents/GitHub/granite-workshop/.venv/lib/python3.11/site-packages (from langchain_community) (0.3.25)\n",
      "Requirement already satisfied: httpx-sse<1.0.0,>=0.4.0 in /Users/flaviajaninebeo/Documents/GitHub/granite-workshop/.venv/lib/python3.11/site-packages (from langchain_community) (0.4.0)\n",
      "Requirement already satisfied: numpy<3,>=1.26.2 in /Users/flaviajaninebeo/Documents/GitHub/granite-workshop/.venv/lib/python3.11/site-packages (from langchain_community) (2.2.4)\n",
      "Requirement already satisfied: filelock in /Users/flaviajaninebeo/Documents/GitHub/granite-workshop/.venv/lib/python3.11/site-packages (from transformers) (3.18.0)\n",
      "Requirement already satisfied: huggingface-hub<1.0,>=0.30.0 in /Users/flaviajaninebeo/Documents/GitHub/granite-workshop/.venv/lib/python3.11/site-packages (from transformers) (0.30.1)\n",
      "Requirement already satisfied: packaging>=20.0 in /Users/flaviajaninebeo/Documents/GitHub/granite-workshop/.venv/lib/python3.11/site-packages (from transformers) (24.2)\n",
      "Requirement already satisfied: regex!=2019.12.17 in /Users/flaviajaninebeo/Documents/GitHub/granite-workshop/.venv/lib/python3.11/site-packages (from transformers) (2024.11.6)\n",
      "Requirement already satisfied: tokenizers<0.22,>=0.21 in /Users/flaviajaninebeo/Documents/GitHub/granite-workshop/.venv/lib/python3.11/site-packages (from transformers) (0.21.1)\n",
      "Requirement already satisfied: safetensors>=0.4.3 in /Users/flaviajaninebeo/Documents/GitHub/granite-workshop/.venv/lib/python3.11/site-packages (from transformers) (0.5.3)\n",
      "Requirement already satisfied: tqdm>=4.27 in /Users/flaviajaninebeo/Documents/GitHub/granite-workshop/.venv/lib/python3.11/site-packages (from transformers) (4.67.1)\n",
      "Requirement already satisfied: sentence-transformers>=2.6.0 in /Users/flaviajaninebeo/Documents/GitHub/granite-workshop/.venv/lib/python3.11/site-packages (from langchain_huggingface) (4.0.2)\n",
      "Requirement already satisfied: ollama<1,>=0.4.4 in /Users/flaviajaninebeo/Documents/GitHub/granite-workshop/.venv/lib/python3.11/site-packages (from langchain_ollama) (0.4.7)\n",
      "Requirement already satisfied: httpx<1,>=0.21.0 in /Users/flaviajaninebeo/Documents/GitHub/granite-workshop/.venv/lib/python3.11/site-packages (from replicate) (0.28.1)\n",
      "Requirement already satisfied: pydantic>1.10.7 in /Users/flaviajaninebeo/Documents/GitHub/granite-workshop/.venv/lib/python3.11/site-packages (from replicate) (2.11.2)\n",
      "Requirement already satisfied: typing_extensions>=4.5.0 in /Users/flaviajaninebeo/Documents/GitHub/granite-workshop/.venv/lib/python3.11/site-packages (from replicate) (4.13.1)\n",
      "Requirement already satisfied: beautifulsoup4<5.0.0,>=4.12.3 in /Users/flaviajaninebeo/Documents/GitHub/granite-workshop/.venv/lib/python3.11/site-packages (from docling) (4.13.3)\n",
      "Requirement already satisfied: certifi>=2024.7.4 in /Users/flaviajaninebeo/Documents/GitHub/granite-workshop/.venv/lib/python3.11/site-packages (from docling) (2025.1.31)\n",
      "Requirement already satisfied: docling-core<3.0.0,>=2.24.1 in /Users/flaviajaninebeo/Documents/GitHub/granite-workshop/.venv/lib/python3.11/site-packages (from docling-core[chunking]<3.0.0,>=2.24.1->docling) (2.25.0)\n",
      "Requirement already satisfied: docling-ibm-models<4.0.0,>=3.4.0 in /Users/flaviajaninebeo/Documents/GitHub/granite-workshop/.venv/lib/python3.11/site-packages (from docling) (3.4.1)\n",
      "Requirement already satisfied: docling-parse<5.0.0,>=4.0.0 in /Users/flaviajaninebeo/Documents/GitHub/granite-workshop/.venv/lib/python3.11/site-packages (from docling) (4.0.0)\n",
      "Requirement already satisfied: easyocr<2.0,>=1.7 in /Users/flaviajaninebeo/Documents/GitHub/granite-workshop/.venv/lib/python3.11/site-packages (from docling) (1.7.2)\n",
      "Requirement already satisfied: filetype<2.0.0,>=1.2.0 in /Users/flaviajaninebeo/Documents/GitHub/granite-workshop/.venv/lib/python3.11/site-packages (from docling) (1.2.0)\n",
      "Requirement already satisfied: lxml<6.0.0,>=4.0.0 in /Users/flaviajaninebeo/Documents/GitHub/granite-workshop/.venv/lib/python3.11/site-packages (from docling) (5.3.2)\n",
      "Requirement already satisfied: marko<3.0.0,>=2.1.2 in /Users/flaviajaninebeo/Documents/GitHub/granite-workshop/.venv/lib/python3.11/site-packages (from docling) (2.1.3)\n",
      "Requirement already satisfied: openpyxl<4.0.0,>=3.1.5 in /Users/flaviajaninebeo/Documents/GitHub/granite-workshop/.venv/lib/python3.11/site-packages (from docling) (3.1.5)\n",
      "Requirement already satisfied: pandas<3.0.0,>=2.1.4 in /Users/flaviajaninebeo/Documents/GitHub/granite-workshop/.venv/lib/python3.11/site-packages (from docling) (2.2.3)\n",
      "Requirement already satisfied: pillow<12.0.0,>=10.0.0 in /Users/flaviajaninebeo/Documents/GitHub/granite-workshop/.venv/lib/python3.11/site-packages (from docling) (11.1.0)\n",
      "Requirement already satisfied: pluggy<2.0.0,>=1.0.0 in /Users/flaviajaninebeo/Documents/GitHub/granite-workshop/.venv/lib/python3.11/site-packages (from docling) (1.5.0)\n",
      "Requirement already satisfied: pylatexenc<3.0,>=2.10 in /Users/flaviajaninebeo/Documents/GitHub/granite-workshop/.venv/lib/python3.11/site-packages (from docling) (2.10)\n",
      "Requirement already satisfied: pypdfium2<5.0.0,>=4.30.0 in /Users/flaviajaninebeo/Documents/GitHub/granite-workshop/.venv/lib/python3.11/site-packages (from docling) (4.30.1)\n",
      "Requirement already satisfied: python-docx<2.0.0,>=1.1.2 in /Users/flaviajaninebeo/Documents/GitHub/granite-workshop/.venv/lib/python3.11/site-packages (from docling) (1.1.2)\n",
      "Requirement already satisfied: python-pptx<2.0.0,>=1.0.2 in /Users/flaviajaninebeo/Documents/GitHub/granite-workshop/.venv/lib/python3.11/site-packages (from docling) (1.0.2)\n",
      "Requirement already satisfied: rtree<2.0.0,>=1.3.0 in /Users/flaviajaninebeo/Documents/GitHub/granite-workshop/.venv/lib/python3.11/site-packages (from docling) (1.4.0)\n",
      "Requirement already satisfied: scipy<2.0.0,>=1.6.0 in /Users/flaviajaninebeo/Documents/GitHub/granite-workshop/.venv/lib/python3.11/site-packages (from docling) (1.15.2)\n",
      "Requirement already satisfied: typer<0.13.0,>=0.12.5 in /Users/flaviajaninebeo/Documents/GitHub/granite-workshop/.venv/lib/python3.11/site-packages (from docling) (0.12.5)\n",
      "Requirement already satisfied: aiohappyeyeballs>=2.3.0 in /Users/flaviajaninebeo/Documents/GitHub/granite-workshop/.venv/lib/python3.11/site-packages (from aiohttp<4.0.0,>=3.8.3->langchain_community) (2.6.1)\n",
      "Requirement already satisfied: aiosignal>=1.1.2 in /Users/flaviajaninebeo/Documents/GitHub/granite-workshop/.venv/lib/python3.11/site-packages (from aiohttp<4.0.0,>=3.8.3->langchain_community) (1.3.2)\n",
      "Requirement already satisfied: attrs>=17.3.0 in /Users/flaviajaninebeo/Documents/GitHub/granite-workshop/.venv/lib/python3.11/site-packages (from aiohttp<4.0.0,>=3.8.3->langchain_community) (25.3.0)\n",
      "Requirement already satisfied: frozenlist>=1.1.1 in /Users/flaviajaninebeo/Documents/GitHub/granite-workshop/.venv/lib/python3.11/site-packages (from aiohttp<4.0.0,>=3.8.3->langchain_community) (1.5.0)\n",
      "Requirement already satisfied: multidict<7.0,>=4.5 in /Users/flaviajaninebeo/Documents/GitHub/granite-workshop/.venv/lib/python3.11/site-packages (from aiohttp<4.0.0,>=3.8.3->langchain_community) (6.3.2)\n",
      "Requirement already satisfied: propcache>=0.2.0 in /Users/flaviajaninebeo/Documents/GitHub/granite-workshop/.venv/lib/python3.11/site-packages (from aiohttp<4.0.0,>=3.8.3->langchain_community) (0.3.1)\n",
      "Requirement already satisfied: yarl<2.0,>=1.17.0 in /Users/flaviajaninebeo/Documents/GitHub/granite-workshop/.venv/lib/python3.11/site-packages (from aiohttp<4.0.0,>=3.8.3->langchain_community) (1.19.0)\n",
      "Requirement already satisfied: soupsieve>1.2 in /Users/flaviajaninebeo/Documents/GitHub/granite-workshop/.venv/lib/python3.11/site-packages (from beautifulsoup4<5.0.0,>=4.12.3->docling) (2.6)\n",
      "Requirement already satisfied: marshmallow<4.0.0,>=3.18.0 in /Users/flaviajaninebeo/Documents/GitHub/granite-workshop/.venv/lib/python3.11/site-packages (from dataclasses-json<0.7,>=0.5.7->langchain_community) (3.26.1)\n",
      "Requirement already satisfied: typing-inspect<1,>=0.4.0 in /Users/flaviajaninebeo/Documents/GitHub/granite-workshop/.venv/lib/python3.11/site-packages (from dataclasses-json<0.7,>=0.5.7->langchain_community) (0.9.0)\n",
      "Requirement already satisfied: jsonref<2.0.0,>=1.1.0 in /Users/flaviajaninebeo/Documents/GitHub/granite-workshop/.venv/lib/python3.11/site-packages (from docling-core<3.0.0,>=2.24.1->docling-core[chunking]<3.0.0,>=2.24.1->docling) (1.1.0)\n",
      "Requirement already satisfied: jsonschema<5.0.0,>=4.16.0 in /Users/flaviajaninebeo/Documents/GitHub/granite-workshop/.venv/lib/python3.11/site-packages (from docling-core<3.0.0,>=2.24.1->docling-core[chunking]<3.0.0,>=2.24.1->docling) (4.23.0)\n",
      "Requirement already satisfied: latex2mathml<4.0.0,>=3.77.0 in /Users/flaviajaninebeo/Documents/GitHub/granite-workshop/.venv/lib/python3.11/site-packages (from docling-core<3.0.0,>=2.24.1->docling-core[chunking]<3.0.0,>=2.24.1->docling) (3.77.0)\n",
      "Requirement already satisfied: tabulate<0.10.0,>=0.9.0 in /Users/flaviajaninebeo/Documents/GitHub/granite-workshop/.venv/lib/python3.11/site-packages (from docling-core<3.0.0,>=2.24.1->docling-core[chunking]<3.0.0,>=2.24.1->docling) (0.9.0)\n",
      "Requirement already satisfied: semchunk<3.0.0,>=2.2.0 in /Users/flaviajaninebeo/Documents/GitHub/granite-workshop/.venv/lib/python3.11/site-packages (from docling-core[chunking]<3.0.0,>=2.24.1->docling) (2.2.2)\n",
      "Requirement already satisfied: jsonlines<4.0.0,>=3.1.0 in /Users/flaviajaninebeo/Documents/GitHub/granite-workshop/.venv/lib/python3.11/site-packages (from docling-ibm-models<4.0.0,>=3.4.0->docling) (3.1.0)\n",
      "Requirement already satisfied: opencv-python-headless<5.0.0.0,>=4.6.0.66 in /Users/flaviajaninebeo/Documents/GitHub/granite-workshop/.venv/lib/python3.11/site-packages (from docling-ibm-models<4.0.0,>=3.4.0->docling) (4.11.0.86)\n",
      "Requirement already satisfied: torch<3.0.0,>=2.2.2 in /Users/flaviajaninebeo/Documents/GitHub/granite-workshop/.venv/lib/python3.11/site-packages (from docling-ibm-models<4.0.0,>=3.4.0->docling) (2.6.0)\n",
      "Requirement already satisfied: torchvision<1,>=0 in /Users/flaviajaninebeo/Documents/GitHub/granite-workshop/.venv/lib/python3.11/site-packages (from docling-ibm-models<4.0.0,>=3.4.0->docling) (0.21.0)\n",
      "Requirement already satisfied: scikit-image in /Users/flaviajaninebeo/Documents/GitHub/granite-workshop/.venv/lib/python3.11/site-packages (from easyocr<2.0,>=1.7->docling) (0.25.2)\n",
      "Requirement already satisfied: python-bidi in /Users/flaviajaninebeo/Documents/GitHub/granite-workshop/.venv/lib/python3.11/site-packages (from easyocr<2.0,>=1.7->docling) (0.6.6)\n",
      "Requirement already satisfied: Shapely in /Users/flaviajaninebeo/Documents/GitHub/granite-workshop/.venv/lib/python3.11/site-packages (from easyocr<2.0,>=1.7->docling) (2.1.0)\n",
      "Requirement already satisfied: pyclipper in /Users/flaviajaninebeo/Documents/GitHub/granite-workshop/.venv/lib/python3.11/site-packages (from easyocr<2.0,>=1.7->docling) (1.3.0.post6)\n",
      "Requirement already satisfied: ninja in /Users/flaviajaninebeo/Documents/GitHub/granite-workshop/.venv/lib/python3.11/site-packages (from easyocr<2.0,>=1.7->docling) (1.11.1.4)\n",
      "Requirement already satisfied: anyio in /Users/flaviajaninebeo/Documents/GitHub/granite-workshop/.venv/lib/python3.11/site-packages (from httpx<1,>=0.21.0->replicate) (4.9.0)\n",
      "Requirement already satisfied: httpcore==1.* in /Users/flaviajaninebeo/Documents/GitHub/granite-workshop/.venv/lib/python3.11/site-packages (from httpx<1,>=0.21.0->replicate) (1.0.7)\n",
      "Requirement already satisfied: idna in /Users/flaviajaninebeo/Documents/GitHub/granite-workshop/.venv/lib/python3.11/site-packages (from httpx<1,>=0.21.0->replicate) (3.10)\n",
      "Requirement already satisfied: h11<0.15,>=0.13 in /Users/flaviajaninebeo/Documents/GitHub/granite-workshop/.venv/lib/python3.11/site-packages (from httpcore==1.*->httpx<1,>=0.21.0->replicate) (0.14.0)\n",
      "Requirement already satisfied: fsspec>=2023.5.0 in /Users/flaviajaninebeo/Documents/GitHub/granite-workshop/.venv/lib/python3.11/site-packages (from huggingface-hub<1.0,>=0.30.0->transformers) (2025.3.2)\n",
      "Requirement already satisfied: langchain-text-splitters<1.0.0,>=0.3.8 in /Users/flaviajaninebeo/Documents/GitHub/granite-workshop/.venv/lib/python3.11/site-packages (from langchain<1.0.0,>=0.3.23->langchain_community) (0.3.8)\n",
      "Requirement already satisfied: jsonpatch<2.0,>=1.33 in /Users/flaviajaninebeo/Documents/GitHub/granite-workshop/.venv/lib/python3.11/site-packages (from langchain-core<1.0.0,>=0.3.51->langchain_community) (1.33)\n",
      "Requirement already satisfied: orjson<4.0.0,>=3.9.14 in /Users/flaviajaninebeo/Documents/GitHub/granite-workshop/.venv/lib/python3.11/site-packages (from langsmith<0.4,>=0.1.125->langchain_community) (3.10.16)\n",
      "Requirement already satisfied: requests-toolbelt<2.0.0,>=1.0.0 in /Users/flaviajaninebeo/Documents/GitHub/granite-workshop/.venv/lib/python3.11/site-packages (from langsmith<0.4,>=0.1.125->langchain_community) (1.0.0)\n",
      "Requirement already satisfied: zstandard<0.24.0,>=0.23.0 in /Users/flaviajaninebeo/Documents/GitHub/granite-workshop/.venv/lib/python3.11/site-packages (from langsmith<0.4,>=0.1.125->langchain_community) (0.23.0)\n",
      "Requirement already satisfied: et-xmlfile in /Users/flaviajaninebeo/Documents/GitHub/granite-workshop/.venv/lib/python3.11/site-packages (from openpyxl<4.0.0,>=3.1.5->docling) (2.0.0)\n",
      "Requirement already satisfied: python-dateutil>=2.8.2 in /Users/flaviajaninebeo/Documents/GitHub/granite-workshop/.venv/lib/python3.11/site-packages (from pandas<3.0.0,>=2.1.4->docling) (2.9.0.post0)\n",
      "Requirement already satisfied: pytz>=2020.1 in /Users/flaviajaninebeo/Documents/GitHub/granite-workshop/.venv/lib/python3.11/site-packages (from pandas<3.0.0,>=2.1.4->docling) (2025.2)\n",
      "Requirement already satisfied: tzdata>=2022.7 in /Users/flaviajaninebeo/Documents/GitHub/granite-workshop/.venv/lib/python3.11/site-packages (from pandas<3.0.0,>=2.1.4->docling) (2025.2)\n",
      "Requirement already satisfied: annotated-types>=0.6.0 in /Users/flaviajaninebeo/Documents/GitHub/granite-workshop/.venv/lib/python3.11/site-packages (from pydantic>1.10.7->replicate) (0.7.0)\n",
      "Requirement already satisfied: pydantic-core==2.33.1 in /Users/flaviajaninebeo/Documents/GitHub/granite-workshop/.venv/lib/python3.11/site-packages (from pydantic>1.10.7->replicate) (2.33.1)\n",
      "Requirement already satisfied: typing-inspection>=0.4.0 in /Users/flaviajaninebeo/Documents/GitHub/granite-workshop/.venv/lib/python3.11/site-packages (from pydantic>1.10.7->replicate) (0.4.0)\n",
      "Requirement already satisfied: XlsxWriter>=0.5.7 in /Users/flaviajaninebeo/Documents/GitHub/granite-workshop/.venv/lib/python3.11/site-packages (from python-pptx<2.0.0,>=1.0.2->docling) (3.2.2)\n",
      "Requirement already satisfied: charset-normalizer<4,>=2 in /Users/flaviajaninebeo/Documents/GitHub/granite-workshop/.venv/lib/python3.11/site-packages (from requests<3,>=2->langchain_community) (3.4.1)\n",
      "Requirement already satisfied: urllib3<3,>=1.21.1 in /Users/flaviajaninebeo/Documents/GitHub/granite-workshop/.venv/lib/python3.11/site-packages (from requests<3,>=2->langchain_community) (2.3.0)\n",
      "Requirement already satisfied: scikit-learn in /Users/flaviajaninebeo/Documents/GitHub/granite-workshop/.venv/lib/python3.11/site-packages (from sentence-transformers>=2.6.0->langchain_huggingface) (1.6.1)\n",
      "Requirement already satisfied: click>=8.0.0 in /Users/flaviajaninebeo/Documents/GitHub/granite-workshop/.venv/lib/python3.11/site-packages (from typer<0.13.0,>=0.12.5->docling) (8.1.8)\n",
      "Requirement already satisfied: shellingham>=1.3.0 in /Users/flaviajaninebeo/Documents/GitHub/granite-workshop/.venv/lib/python3.11/site-packages (from typer<0.13.0,>=0.12.5->docling) (1.5.4)\n",
      "Requirement already satisfied: rich>=10.11.0 in /Users/flaviajaninebeo/Documents/GitHub/granite-workshop/.venv/lib/python3.11/site-packages (from typer<0.13.0,>=0.12.5->docling) (14.0.0)\n",
      "Requirement already satisfied: jsonpointer>=1.9 in /Users/flaviajaninebeo/Documents/GitHub/granite-workshop/.venv/lib/python3.11/site-packages (from jsonpatch<2.0,>=1.33->langchain-core<1.0.0,>=0.3.51->langchain_community) (3.0.0)\n",
      "Requirement already satisfied: jsonschema-specifications>=2023.03.6 in /Users/flaviajaninebeo/Documents/GitHub/granite-workshop/.venv/lib/python3.11/site-packages (from jsonschema<5.0.0,>=4.16.0->docling-core<3.0.0,>=2.24.1->docling-core[chunking]<3.0.0,>=2.24.1->docling) (2024.10.1)\n",
      "Requirement already satisfied: referencing>=0.28.4 in /Users/flaviajaninebeo/Documents/GitHub/granite-workshop/.venv/lib/python3.11/site-packages (from jsonschema<5.0.0,>=4.16.0->docling-core<3.0.0,>=2.24.1->docling-core[chunking]<3.0.0,>=2.24.1->docling) (0.36.2)\n",
      "Requirement already satisfied: rpds-py>=0.7.1 in /Users/flaviajaninebeo/Documents/GitHub/granite-workshop/.venv/lib/python3.11/site-packages (from jsonschema<5.0.0,>=4.16.0->docling-core<3.0.0,>=2.24.1->docling-core[chunking]<3.0.0,>=2.24.1->docling) (0.24.0)\n",
      "Requirement already satisfied: six>=1.5 in /Users/flaviajaninebeo/Documents/GitHub/granite-workshop/.venv/lib/python3.11/site-packages (from python-dateutil>=2.8.2->pandas<3.0.0,>=2.1.4->docling) (1.17.0)\n",
      "Requirement already satisfied: markdown-it-py>=2.2.0 in /Users/flaviajaninebeo/Documents/GitHub/granite-workshop/.venv/lib/python3.11/site-packages (from rich>=10.11.0->typer<0.13.0,>=0.12.5->docling) (3.0.0)\n",
      "Requirement already satisfied: pygments<3.0.0,>=2.13.0 in /Users/flaviajaninebeo/Documents/GitHub/granite-workshop/.venv/lib/python3.11/site-packages (from rich>=10.11.0->typer<0.13.0,>=0.12.5->docling) (2.19.1)\n",
      "Requirement already satisfied: mpire[dill] in /Users/flaviajaninebeo/Documents/GitHub/granite-workshop/.venv/lib/python3.11/site-packages (from semchunk<3.0.0,>=2.2.0->docling-core[chunking]<3.0.0,>=2.24.1->docling) (2.10.2)\n",
      "Requirement already satisfied: networkx in /Users/flaviajaninebeo/Documents/GitHub/granite-workshop/.venv/lib/python3.11/site-packages (from torch<3.0.0,>=2.2.2->docling-ibm-models<4.0.0,>=3.4.0->docling) (3.4.2)\n",
      "Requirement already satisfied: jinja2 in /Users/flaviajaninebeo/Documents/GitHub/granite-workshop/.venv/lib/python3.11/site-packages (from torch<3.0.0,>=2.2.2->docling-ibm-models<4.0.0,>=3.4.0->docling) (3.1.6)\n",
      "Requirement already satisfied: sympy==1.13.1 in /Users/flaviajaninebeo/Documents/GitHub/granite-workshop/.venv/lib/python3.11/site-packages (from torch<3.0.0,>=2.2.2->docling-ibm-models<4.0.0,>=3.4.0->docling) (1.13.1)\n",
      "Requirement already satisfied: mpmath<1.4,>=1.1.0 in /Users/flaviajaninebeo/Documents/GitHub/granite-workshop/.venv/lib/python3.11/site-packages (from sympy==1.13.1->torch<3.0.0,>=2.2.2->docling-ibm-models<4.0.0,>=3.4.0->docling) (1.3.0)\n",
      "Requirement already satisfied: mypy-extensions>=0.3.0 in /Users/flaviajaninebeo/Documents/GitHub/granite-workshop/.venv/lib/python3.11/site-packages (from typing-inspect<1,>=0.4.0->dataclasses-json<0.7,>=0.5.7->langchain_community) (1.0.0)\n",
      "Requirement already satisfied: sniffio>=1.1 in /Users/flaviajaninebeo/Documents/GitHub/granite-workshop/.venv/lib/python3.11/site-packages (from anyio->httpx<1,>=0.21.0->replicate) (1.3.1)\n",
      "Requirement already satisfied: imageio!=2.35.0,>=2.33 in /Users/flaviajaninebeo/Documents/GitHub/granite-workshop/.venv/lib/python3.11/site-packages (from scikit-image->easyocr<2.0,>=1.7->docling) (2.37.0)\n",
      "Requirement already satisfied: tifffile>=2022.8.12 in /Users/flaviajaninebeo/Documents/GitHub/granite-workshop/.venv/lib/python3.11/site-packages (from scikit-image->easyocr<2.0,>=1.7->docling) (2025.3.30)\n",
      "Requirement already satisfied: lazy-loader>=0.4 in /Users/flaviajaninebeo/Documents/GitHub/granite-workshop/.venv/lib/python3.11/site-packages (from scikit-image->easyocr<2.0,>=1.7->docling) (0.4)\n",
      "Requirement already satisfied: joblib>=1.2.0 in /Users/flaviajaninebeo/Documents/GitHub/granite-workshop/.venv/lib/python3.11/site-packages (from scikit-learn->sentence-transformers>=2.6.0->langchain_huggingface) (1.4.2)\n",
      "Requirement already satisfied: threadpoolctl>=3.1.0 in /Users/flaviajaninebeo/Documents/GitHub/granite-workshop/.venv/lib/python3.11/site-packages (from scikit-learn->sentence-transformers>=2.6.0->langchain_huggingface) (3.6.0)\n",
      "Requirement already satisfied: mdurl~=0.1 in /Users/flaviajaninebeo/Documents/GitHub/granite-workshop/.venv/lib/python3.11/site-packages (from markdown-it-py>=2.2.0->rich>=10.11.0->typer<0.13.0,>=0.12.5->docling) (0.1.2)\n",
      "Requirement already satisfied: MarkupSafe>=2.0 in /Users/flaviajaninebeo/Documents/GitHub/granite-workshop/.venv/lib/python3.11/site-packages (from jinja2->torch<3.0.0,>=2.2.2->docling-ibm-models<4.0.0,>=3.4.0->docling) (3.0.2)\n",
      "Requirement already satisfied: multiprocess>=0.70.15 in /Users/flaviajaninebeo/Documents/GitHub/granite-workshop/.venv/lib/python3.11/site-packages (from mpire[dill]->semchunk<3.0.0,>=2.2.0->docling-core[chunking]<3.0.0,>=2.24.1->docling) (0.70.17)\n",
      "Requirement already satisfied: dill>=0.3.9 in /Users/flaviajaninebeo/Documents/GitHub/granite-workshop/.venv/lib/python3.11/site-packages (from multiprocess>=0.70.15->mpire[dill]->semchunk<3.0.0,>=2.2.0->docling-core[chunking]<3.0.0,>=2.24.1->docling) (0.3.9)\n"
     ]
    }
   ],
   "source": [
    "! pip install git+https://github.com/ibm-granite-community/utils \\\n",
    "    langchain_community \\\n",
    "    transformers \\\n",
    "    langchain_huggingface \\\n",
    "    langchain_ollama \\\n",
    "    replicate \\\n",
    "    docling"
   ]
  },
  {
   "cell_type": "markdown",
   "metadata": {},
   "source": [
    "## Serving the Granite AI model"
   ]
  },
  {
   "cell_type": "markdown",
   "metadata": {},
   "source": [
    "\n",
    "This notebook requires IBM Granite models to be served by an AI model runtime so that the models can be invoked or called. This notebook can use a locally accessible [Ollama](https://github.com/ollama/ollama) server to serve the models, or the [Replicate](https://replicate.com) cloud service.\n",
    "\n",
    "During the pre-work, you may have either started a local Ollama server on your computer, or setup Replicate access and obtained an [API token](https://replicate.com/account/api-tokens)."
   ]
  },
  {
   "cell_type": "markdown",
   "metadata": {
    "id": "ydrVWz7EYHh9"
   },
   "source": [
    "## Select your model"
   ]
  },
  {
   "cell_type": "markdown",
   "metadata": {},
   "source": [
    "Select a Granite model to use. Here we use a Langchain client to connect to the model. If there is a locally accessible Ollama server, we use an Ollama client to access the model. Otherwise, we use a Replicate client to access the model.\n",
    "\n",
    "When using Replicate, if the `REPLICATE_API_TOKEN` environment variable is not set, or a `REPLICATE_API_TOKEN` Colab secret is not set, then the notebook will ask for your [Replicate API token](https://replicate.com/account/api-tokens) in a dialog box."
   ]
  },
  {
   "cell_type": "code",
   "execution_count": 4,
   "metadata": {
    "id": "TSkiGBY4qo32"
   },
   "outputs": [
    {
     "name": "stdout",
     "output_type": "stream",
     "text": [
      "using ollama\n"
     ]
    }
   ],
   "source": [
    "import os\n",
    "import requests\n",
    "from langchain_ollama.llms import OllamaLLM\n",
    "from langchain_community.llms import Replicate\n",
    "from ibm_granite_community.notebook_utils import get_env_var\n",
    "\n",
    "try: # Look for a locally accessible Ollama server for the model\n",
    "    response = requests.get(os.getenv(\"OLLAMA_HOST\", \"http://127.0.0.1:11434\"))\n",
    "    model = OllamaLLM(\n",
    "        model=\"granite3.2:8b\"\n",
    "    )\n",
    "    model = model.bind(raw=True) # Client side controls prompt\n",
    "    print(\"using ollama\")\n",
    "except Exception: # Use Replicate for the model\n",
    "    model = Replicate(\n",
    "        model=\"ibm-granite/granite-3.2-8b-instruct\",\n",
    "        replicate_api_token=get_env_var('REPLICATE_API_TOKEN'),\n",
    "        model_kwargs={\n",
    "            \"max_tokens\": 2000, # Set the maximum number of tokens to generate as output.\n",
    "            \"min_tokens\": 200, # Set the minimum number of tokens to generate as output.\n",
    "            \"temperature\": 0.75,\n",
    "            \"presence_penalty\": 0,\n",
    "            \"frequency_penalty\": 0,\n",
    "        },\n",
    "    )"
   ]
  },
  {
   "cell_type": "code",
   "execution_count": 5,
   "metadata": {},
   "outputs": [
    {
     "data": {
      "text/plain": [
       "'05\": \"2021-03-05 09:34\",\\n  \"Hello06\": \"2021-03-07 11:55\",\\n  \"Hello07\": \"2021-03-08 07:48\"\\n}\\n```\\n\\nIn this example, the function correctly extracts and converts the timestamps from the given strings. The keys are in the format \"Hello<number>\", and the values are the corresponding Unix timestamps in seconds since the epoch (January 1, 1970).'"
      ]
     },
     "execution_count": 5,
     "metadata": {},
     "output_type": "execute_result"
    }
   ],
   "source": [
    "model.invoke(input=\"Hello\")"
   ]
  },
  {
   "cell_type": "markdown",
   "metadata": {
    "id": "5d0sWaZ7YLHN"
   },
   "source": [
    "## Download a book\n",
    "\n",
    "Here we fetch H.D. Thoreau's \"Walden\" from [Project Gutenberg](https://www.gutenberg.org/) for summarization.\n",
    "\n",
    "We have to chunk the book text so that chunks will fit in the context window size of the AI model."
   ]
  },
  {
   "cell_type": "markdown",
   "metadata": {
    "id": "HYuQmgRJY0n5"
   },
   "source": [
    "### Count the tokens\n",
    "\n",
    "Before sending our book chunks to the AI model, it's crucial to understand how much of the model's capacity we're using. Language models typically have a limit on the number of tokens they can process in a single request.\n",
    "\n",
    "Key points:\n",
    "- We're using the [`granite-3.2`](https://huggingface.co/ibm-granite/granite-3.1-2b-instruct) model, which has a context window of 128K tokens.\n",
    "- Tokenization can vary between models, so we use the specific tokenizer for our chosen model.\n",
    "\n",
    "Understanding token count helps us optimize our prompts and ensure we're using the model efficiently."
   ]
  },
  {
   "cell_type": "code",
   "execution_count": 6,
   "metadata": {
    "id": "7JqmvTqbWPgl"
   },
   "outputs": [],
   "source": [
    "from transformers import AutoTokenizer\n",
    "\n",
    "model_path = \"ibm-granite/granite-3.2-2b-instruct\"\n",
    "tokenizer = AutoTokenizer.from_pretrained(model_path)"
   ]
  },
  {
   "cell_type": "markdown",
   "metadata": {},
   "source": [
    "### Summary of Summaries\n",
    "\n",
    "Here we use a hierarchical abstractive summarization technique to adapt to the context length of the model. Our approach uses [Docling](https://docling-project.github.io/docling/) to understand the document's structure, chunk the document into text passages, and group the text passages by chapter which we can then summarize. "
   ]
  },
  {
   "cell_type": "code",
   "execution_count": 7,
   "metadata": {},
   "outputs": [
    {
     "name": "stdout",
     "output_type": "stream",
     "text": [
      "18 documents created\n",
      "Max document size: 38275 tokens\n"
     ]
    }
   ],
   "source": [
    "import itertools\n",
    "from typing import Iterator, Callable\n",
    "from docling.document_converter import DocumentConverter\n",
    "from docling_core.transforms.chunker.hierarchical_chunker import HierarchicalChunker\n",
    "from docling_core.transforms.chunker.base import BaseChunk\n",
    "\n",
    "def chunk_document(source: str, *, dropwhile: Callable[[BaseChunk], bool] = lambda c: False, takewhile: Callable[[BaseChunk], bool] = lambda c: True) -> Iterator[BaseChunk]:\n",
    "    \"\"\"Read the document and perform a hierarchical chunking\"\"\"\n",
    "    converter = DocumentConverter()\n",
    "    chunks = HierarchicalChunker().chunk(converter.convert(source=source).document)\n",
    "    return itertools.takewhile(takewhile, itertools.dropwhile(dropwhile, chunks))\n",
    "\n",
    "def merge_chunks(chunks: Iterator[BaseChunk], *, headings: Callable[[BaseChunk], list[str]] = lambda c: c.meta.headings) -> Iterator[dict[str, str]]:\n",
    "    \"\"\"Merge chunks having the same headings\"\"\"\n",
    "    prior_headings: list[str] | None = None\n",
    "    document: dict[str, str] = {}\n",
    "    for chunk in chunks:\n",
    "        text = chunk.text.replace('\\r\\n', '\\n')\n",
    "        current_headings = headings(chunk)\n",
    "        if prior_headings != current_headings:\n",
    "            if document:\n",
    "                yield document\n",
    "            prior_headings = current_headings\n",
    "            document = {'title': \" - \".join(current_headings), 'text': text}\n",
    "        else:\n",
    "            document['text'] += f\"\\n\\n{text}\"\n",
    "    if document:\n",
    "        yield document\n",
    "\n",
    "def chunk_dropwhile(chunk: BaseChunk) -> bool:\n",
    "    \"\"\"Ignore front matter prior to the book start\"\"\"\n",
    "    return \"WALDEN\" not in chunk.meta.headings\n",
    "\n",
    "def chunk_takewhile(chunk: BaseChunk) -> bool:\n",
    "    \"\"\"Ignore remaining chunks once we see this heading\"\"\"\n",
    "    return \"ON THE DUTY OF CIVIL DISOBEDIENCE\" not in chunk.meta.headings\n",
    "\n",
    "def chunk_headings(chunk: BaseChunk) -> list[str]:\n",
    "    \"\"\"Use the h1 and h2 (chapter) headings\"\"\"\n",
    "    return chunk.meta.headings[:2]\n",
    "\n",
    "documents: list[dict[str, str]] = list(merge_chunks(\n",
    "    chunk_document(\n",
    "        \"https://www.gutenberg.org/cache/epub/205/pg205-images.html\",\n",
    "        dropwhile=chunk_dropwhile,\n",
    "        takewhile=chunk_takewhile,\n",
    "    ),\n",
    "    headings=chunk_headings,\n",
    "))\n",
    "\n",
    "print(f\"{len(documents)} documents created\")\n",
    "print(f\"Max document size: {max(len(tokenizer.tokenize(document['text'])) for document in documents)} tokens\")"
   ]
  },
  {
   "cell_type": "markdown",
   "metadata": {},
   "source": [
    "## Summarize the chunks\n",
    "\n",
    "Here we define a method to generate a response using a list of documents and a user prompt about those documents. \n",
    "\n",
    "We create the prompt according to the [Granite Prompting Guide](https://www.ibm.com/granite/docs/models/granite/#chat-template) and provide the documents using the `documents` parameter."
   ]
  },
  {
   "cell_type": "code",
   "execution_count": 8,
   "metadata": {},
   "outputs": [],
   "source": [
    "def generate(user_prompt: str, documents: list[dict[str, str]]):\n",
    "    \"\"\"Use the chat template to format the prompt\"\"\"\n",
    "    prompt = tokenizer.apply_chat_template(\n",
    "        conversation=[{\n",
    "            \"role\": \"user\",\n",
    "            \"content\": user_prompt,\n",
    "        }],\n",
    "        documents=documents, # This uses the documents support in the Granite chat template\n",
    "        add_generation_prompt=True,\n",
    "        tokenize=False,\n",
    "    )\n",
    "    print(f\"Input size: {len(tokenizer.tokenize(prompt))} tokens\")\n",
    "    output = model.invoke(prompt)\n",
    "    print(f\"Output size: {len(tokenizer.tokenize(output))} tokens\")\n",
    "\n",
    "    return output\n"
   ]
  },
  {
   "cell_type": "markdown",
   "metadata": {},
   "source": [
    "For each chapter, we create a separate summary. This can take a few minutes."
   ]
  },
  {
   "cell_type": "code",
   "execution_count": 10,
   "metadata": {},
   "outputs": [
    {
     "name": "stdout",
     "output_type": "stream",
     "text": [
      "============================= WALDEN - Economy =============================\n",
      "Input size: 38418 tokens\n",
      "Output size: 275 tokens\n",
      "============================= WALDEN - Where I Lived, and What I Lived For =============================\n",
      "Input size: 9133 tokens\n",
      "Output size: 314 tokens\n",
      "Summary count: 2\n"
     ]
    }
   ],
   "source": [
    "documents = documents[:5] # shorten testing work\n",
    "\n",
    "user_prompt = \"\"\"\\\n",
    "Using only the the book chapter document, compose a summary of the book chapter.\n",
    "Your response should only include the summary. Do not provide any further explanation.\"\"\"\n",
    "\n",
    "summaries: list[dict[str, str]] = []\n",
    "\n",
    "for document in documents:\n",
    "    print(f\"============================= {document['title']} =============================\")\n",
    "    output = generate(user_prompt, [document])\n",
    "    summaries.append({'title': document['title'], 'text': output})\n",
    "\n",
    "print(\"Summary count: \" + str(len(summaries)))"
   ]
  },
  {
   "cell_type": "markdown",
   "metadata": {},
   "source": [
    "## Create the Final Summary\n",
    "\n",
    "Now we need to summarize the chapter summaries. We prompt the model to create a unified summary of the chapter summaries we previously generated."
   ]
  },
  {
   "cell_type": "code",
   "execution_count": 11,
   "metadata": {},
   "outputs": [
    {
     "name": "stdout",
     "output_type": "stream",
     "text": [
      "Input size: 741 tokens\n",
      "Output size: 175 tokens\n",
      "The text presents two philosophical perspectives on virtue and living deliberately. The first critiques the romanticization of poverty as a pathway to virtue, arguing instead for active, bold, and generous actions. It contrasts self-imposed hardship with heroic virtues exemplified by figures like Hercules, Achilles, and Theseus. The second perspective emphasizes living deliberately and seeking reality, advocating for self-reliance, intellectual curiosity, and a deep connection with nature. It encourages mental independence, questioning conventional wisdom, and valuing direct experience over abstract thinking. Both texts promote intentional living, personal exploration, and the pursuit of grand virtues over mediocrity imposed by circumstances.\n"
     ]
    }
   ],
   "source": [
    "user_prompt = \"\"\"\\\n",
    "Using only the book chapter summary documents, compose a single, unified summary of the book.\n",
    "Your response should only include the unified summary. Do not provide any further explanation.\"\"\"\n",
    "\n",
    "output = generate(user_prompt, summaries)\n",
    "print(output)"
   ]
  },
  {
   "cell_type": "markdown",
   "metadata": {},
   "source": [
    "So we have now summarized a document larger than the AI model's context window length by breaking the document down into smaller pieces to summarize and then summarizing those summaries."
   ]
  }
 ],
 "metadata": {
  "colab": {
   "provenance": [],
   "toc_visible": true
  },
  "kernelspec": {
   "display_name": ".venv",
   "language": "python",
   "name": "python3"
  },
  "language_info": {
   "codemirror_mode": {
    "name": "ipython",
    "version": 3
   },
   "file_extension": ".py",
   "mimetype": "text/x-python",
   "name": "python",
   "nbconvert_exporter": "python",
   "pygments_lexer": "ipython3",
   "version": "3.11.9"
  }
 },
 "nbformat": 4,
 "nbformat_minor": 4
}
